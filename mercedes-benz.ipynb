{
 "cells": [
  {
   "cell_type": "markdown",
   "id": "cb74bf84",
   "metadata": {
    "tags": []
   },
   "source": [
    "# Mercedes-Benz greener manufacturing"
   ]
  },
  {
   "cell_type": "code",
   "execution_count": 1,
   "id": "de7aff8e",
   "metadata": {},
   "outputs": [
    {
     "name": "stdout",
     "output_type": "stream",
     "text": [
      "Requirement already satisfied: category_encoders in c:\\users\\akagi\\documents\\otus\\1-automl\\env\\lib\\site-packages (2.2.2)\n",
      "Requirement already satisfied: patsy>=0.5.1 in c:\\users\\akagi\\documents\\otus\\1-automl\\env\\lib\\site-packages (from category_encoders) (0.5.1)\n",
      "Requirement already satisfied: numpy>=1.14.0 in c:\\users\\akagi\\documents\\otus\\1-automl\\env\\lib\\site-packages (from category_encoders) (1.21.0)\n",
      "Requirement already satisfied: pandas>=0.21.1 in c:\\users\\akagi\\documents\\otus\\1-automl\\env\\lib\\site-packages (from category_encoders) (1.3.0)\n",
      "Requirement already satisfied: scikit-learn>=0.20.0 in c:\\users\\akagi\\documents\\otus\\1-automl\\env\\lib\\site-packages (from category_encoders) (0.24.2)\n",
      "Requirement already satisfied: statsmodels>=0.9.0 in c:\\users\\akagi\\documents\\otus\\1-automl\\env\\lib\\site-packages (from category_encoders) (0.12.2)\n",
      "Requirement already satisfied: scipy>=1.0.0 in c:\\users\\akagi\\documents\\otus\\1-automl\\env\\lib\\site-packages (from category_encoders) (1.7.0)\n",
      "Requirement already satisfied: pytz>=2017.3 in c:\\users\\akagi\\documents\\otus\\1-automl\\env\\lib\\site-packages (from pandas>=0.21.1->category_encoders) (2021.1)\n",
      "Requirement already satisfied: python-dateutil>=2.7.3 in c:\\users\\akagi\\documents\\otus\\1-automl\\env\\lib\\site-packages (from pandas>=0.21.1->category_encoders) (2.8.1)\n",
      "Requirement already satisfied: six in c:\\users\\akagi\\documents\\otus\\1-automl\\env\\lib\\site-packages (from patsy>=0.5.1->category_encoders) (1.16.0)\n",
      "Requirement already satisfied: threadpoolctl>=2.0.0 in c:\\users\\akagi\\documents\\otus\\1-automl\\env\\lib\\site-packages (from scikit-learn>=0.20.0->category_encoders) (2.2.0)\n",
      "Requirement already satisfied: joblib>=0.11 in c:\\users\\akagi\\documents\\otus\\1-automl\\env\\lib\\site-packages (from scikit-learn>=0.20.0->category_encoders) (1.0.1)\n"
     ]
    }
   ],
   "source": [
    "!pip install category_encoders"
   ]
  },
  {
   "cell_type": "code",
   "execution_count": 2,
   "id": "750232be",
   "metadata": {},
   "outputs": [],
   "source": [
    "import numpy as np\n",
    "import pandas as pd\n",
    "import matplotlib.pyplot as plt\n",
    "import seaborn as sns\n",
    "\n",
    "import category_encoders as ce\n",
    "import featuretools as ft\n",
    "import h2o\n",
    "\n",
    "from sklearn.ensemble import RandomForestRegressor\n",
    "from sklearn.linear_model import LinearRegression, BayesianRidge\n",
    "from sklearn.tree import DecisionTreeRegressor\n",
    "from sklearn.compose import TransformedTargetRegressor\n",
    "\n",
    "from sklearn.pipeline import Pipeline\n",
    "from sklearn.impute import SimpleImputer\n",
    "from sklearn.metrics import r2_score\n",
    "\n",
    "from sklearn.model_selection import train_test_split\n",
    "from sklearn.model_selection import cross_val_score\n",
    "from sklearn.model_selection import KFold\n",
    "\n",
    "from sklearn.preprocessing import RobustScaler, MinMaxScaler, Normalizer\n",
    "from sklearn.feature_selection import VarianceThreshold, SelectKBest\n",
    "from sklearn.feature_selection import SelectPercentile, SelectFromModel, f_regression\n",
    "from sklearn.decomposition import PCA"
   ]
  },
  {
   "cell_type": "code",
   "execution_count": 3,
   "id": "b4a2f2b4",
   "metadata": {},
   "outputs": [],
   "source": [
    "train_data = pd.read_csv('mercedes-benz-greener-manufacturing/train.csv.zip')\n",
    "test_data = pd.read_csv('mercedes-benz-greener-manufacturing/test.csv.zip')\n",
    "sample_subm = pd.read_csv('mercedes-benz-greener-manufacturing/sample_submission.csv.zip')"
   ]
  },
  {
   "cell_type": "code",
   "execution_count": 4,
   "id": "6dc67a53-6139-41d7-9e15-d63b1ed83780",
   "metadata": {},
   "outputs": [
    {
     "data": {
      "text/html": [
       "<div>\n",
       "<style scoped>\n",
       "    .dataframe tbody tr th:only-of-type {\n",
       "        vertical-align: middle;\n",
       "    }\n",
       "\n",
       "    .dataframe tbody tr th {\n",
       "        vertical-align: top;\n",
       "    }\n",
       "\n",
       "    .dataframe thead th {\n",
       "        text-align: right;\n",
       "    }\n",
       "</style>\n",
       "<table border=\"1\" class=\"dataframe\">\n",
       "  <thead>\n",
       "    <tr style=\"text-align: right;\">\n",
       "      <th></th>\n",
       "      <th>ID</th>\n",
       "      <th>y</th>\n",
       "      <th>X0</th>\n",
       "      <th>X1</th>\n",
       "      <th>X2</th>\n",
       "      <th>X3</th>\n",
       "      <th>X4</th>\n",
       "      <th>X5</th>\n",
       "      <th>X6</th>\n",
       "      <th>X8</th>\n",
       "      <th>...</th>\n",
       "      <th>X375</th>\n",
       "      <th>X376</th>\n",
       "      <th>X377</th>\n",
       "      <th>X378</th>\n",
       "      <th>X379</th>\n",
       "      <th>X380</th>\n",
       "      <th>X382</th>\n",
       "      <th>X383</th>\n",
       "      <th>X384</th>\n",
       "      <th>X385</th>\n",
       "    </tr>\n",
       "  </thead>\n",
       "  <tbody>\n",
       "    <tr>\n",
       "      <th>0</th>\n",
       "      <td>0</td>\n",
       "      <td>130.81</td>\n",
       "      <td>k</td>\n",
       "      <td>v</td>\n",
       "      <td>at</td>\n",
       "      <td>a</td>\n",
       "      <td>d</td>\n",
       "      <td>u</td>\n",
       "      <td>j</td>\n",
       "      <td>o</td>\n",
       "      <td>...</td>\n",
       "      <td>0</td>\n",
       "      <td>0</td>\n",
       "      <td>1</td>\n",
       "      <td>0</td>\n",
       "      <td>0</td>\n",
       "      <td>0</td>\n",
       "      <td>0</td>\n",
       "      <td>0</td>\n",
       "      <td>0</td>\n",
       "      <td>0</td>\n",
       "    </tr>\n",
       "    <tr>\n",
       "      <th>1</th>\n",
       "      <td>6</td>\n",
       "      <td>88.53</td>\n",
       "      <td>k</td>\n",
       "      <td>t</td>\n",
       "      <td>av</td>\n",
       "      <td>e</td>\n",
       "      <td>d</td>\n",
       "      <td>y</td>\n",
       "      <td>l</td>\n",
       "      <td>o</td>\n",
       "      <td>...</td>\n",
       "      <td>1</td>\n",
       "      <td>0</td>\n",
       "      <td>0</td>\n",
       "      <td>0</td>\n",
       "      <td>0</td>\n",
       "      <td>0</td>\n",
       "      <td>0</td>\n",
       "      <td>0</td>\n",
       "      <td>0</td>\n",
       "      <td>0</td>\n",
       "    </tr>\n",
       "    <tr>\n",
       "      <th>2</th>\n",
       "      <td>7</td>\n",
       "      <td>76.26</td>\n",
       "      <td>az</td>\n",
       "      <td>w</td>\n",
       "      <td>n</td>\n",
       "      <td>c</td>\n",
       "      <td>d</td>\n",
       "      <td>x</td>\n",
       "      <td>j</td>\n",
       "      <td>x</td>\n",
       "      <td>...</td>\n",
       "      <td>0</td>\n",
       "      <td>0</td>\n",
       "      <td>0</td>\n",
       "      <td>0</td>\n",
       "      <td>0</td>\n",
       "      <td>0</td>\n",
       "      <td>1</td>\n",
       "      <td>0</td>\n",
       "      <td>0</td>\n",
       "      <td>0</td>\n",
       "    </tr>\n",
       "    <tr>\n",
       "      <th>3</th>\n",
       "      <td>9</td>\n",
       "      <td>80.62</td>\n",
       "      <td>az</td>\n",
       "      <td>t</td>\n",
       "      <td>n</td>\n",
       "      <td>f</td>\n",
       "      <td>d</td>\n",
       "      <td>x</td>\n",
       "      <td>l</td>\n",
       "      <td>e</td>\n",
       "      <td>...</td>\n",
       "      <td>0</td>\n",
       "      <td>0</td>\n",
       "      <td>0</td>\n",
       "      <td>0</td>\n",
       "      <td>0</td>\n",
       "      <td>0</td>\n",
       "      <td>0</td>\n",
       "      <td>0</td>\n",
       "      <td>0</td>\n",
       "      <td>0</td>\n",
       "    </tr>\n",
       "    <tr>\n",
       "      <th>4</th>\n",
       "      <td>13</td>\n",
       "      <td>78.02</td>\n",
       "      <td>az</td>\n",
       "      <td>v</td>\n",
       "      <td>n</td>\n",
       "      <td>f</td>\n",
       "      <td>d</td>\n",
       "      <td>h</td>\n",
       "      <td>d</td>\n",
       "      <td>n</td>\n",
       "      <td>...</td>\n",
       "      <td>0</td>\n",
       "      <td>0</td>\n",
       "      <td>0</td>\n",
       "      <td>0</td>\n",
       "      <td>0</td>\n",
       "      <td>0</td>\n",
       "      <td>0</td>\n",
       "      <td>0</td>\n",
       "      <td>0</td>\n",
       "      <td>0</td>\n",
       "    </tr>\n",
       "    <tr>\n",
       "      <th>...</th>\n",
       "      <td>...</td>\n",
       "      <td>...</td>\n",
       "      <td>...</td>\n",
       "      <td>...</td>\n",
       "      <td>...</td>\n",
       "      <td>...</td>\n",
       "      <td>...</td>\n",
       "      <td>...</td>\n",
       "      <td>...</td>\n",
       "      <td>...</td>\n",
       "      <td>...</td>\n",
       "      <td>...</td>\n",
       "      <td>...</td>\n",
       "      <td>...</td>\n",
       "      <td>...</td>\n",
       "      <td>...</td>\n",
       "      <td>...</td>\n",
       "      <td>...</td>\n",
       "      <td>...</td>\n",
       "      <td>...</td>\n",
       "      <td>...</td>\n",
       "    </tr>\n",
       "    <tr>\n",
       "      <th>4204</th>\n",
       "      <td>8405</td>\n",
       "      <td>107.39</td>\n",
       "      <td>ak</td>\n",
       "      <td>s</td>\n",
       "      <td>as</td>\n",
       "      <td>c</td>\n",
       "      <td>d</td>\n",
       "      <td>aa</td>\n",
       "      <td>d</td>\n",
       "      <td>q</td>\n",
       "      <td>...</td>\n",
       "      <td>1</td>\n",
       "      <td>0</td>\n",
       "      <td>0</td>\n",
       "      <td>0</td>\n",
       "      <td>0</td>\n",
       "      <td>0</td>\n",
       "      <td>0</td>\n",
       "      <td>0</td>\n",
       "      <td>0</td>\n",
       "      <td>0</td>\n",
       "    </tr>\n",
       "    <tr>\n",
       "      <th>4205</th>\n",
       "      <td>8406</td>\n",
       "      <td>108.77</td>\n",
       "      <td>j</td>\n",
       "      <td>o</td>\n",
       "      <td>t</td>\n",
       "      <td>d</td>\n",
       "      <td>d</td>\n",
       "      <td>aa</td>\n",
       "      <td>h</td>\n",
       "      <td>h</td>\n",
       "      <td>...</td>\n",
       "      <td>0</td>\n",
       "      <td>1</td>\n",
       "      <td>0</td>\n",
       "      <td>0</td>\n",
       "      <td>0</td>\n",
       "      <td>0</td>\n",
       "      <td>0</td>\n",
       "      <td>0</td>\n",
       "      <td>0</td>\n",
       "      <td>0</td>\n",
       "    </tr>\n",
       "    <tr>\n",
       "      <th>4206</th>\n",
       "      <td>8412</td>\n",
       "      <td>109.22</td>\n",
       "      <td>ak</td>\n",
       "      <td>v</td>\n",
       "      <td>r</td>\n",
       "      <td>a</td>\n",
       "      <td>d</td>\n",
       "      <td>aa</td>\n",
       "      <td>g</td>\n",
       "      <td>e</td>\n",
       "      <td>...</td>\n",
       "      <td>0</td>\n",
       "      <td>0</td>\n",
       "      <td>1</td>\n",
       "      <td>0</td>\n",
       "      <td>0</td>\n",
       "      <td>0</td>\n",
       "      <td>0</td>\n",
       "      <td>0</td>\n",
       "      <td>0</td>\n",
       "      <td>0</td>\n",
       "    </tr>\n",
       "    <tr>\n",
       "      <th>4207</th>\n",
       "      <td>8415</td>\n",
       "      <td>87.48</td>\n",
       "      <td>al</td>\n",
       "      <td>r</td>\n",
       "      <td>e</td>\n",
       "      <td>f</td>\n",
       "      <td>d</td>\n",
       "      <td>aa</td>\n",
       "      <td>l</td>\n",
       "      <td>u</td>\n",
       "      <td>...</td>\n",
       "      <td>0</td>\n",
       "      <td>0</td>\n",
       "      <td>0</td>\n",
       "      <td>0</td>\n",
       "      <td>0</td>\n",
       "      <td>0</td>\n",
       "      <td>0</td>\n",
       "      <td>0</td>\n",
       "      <td>0</td>\n",
       "      <td>0</td>\n",
       "    </tr>\n",
       "    <tr>\n",
       "      <th>4208</th>\n",
       "      <td>8417</td>\n",
       "      <td>110.85</td>\n",
       "      <td>z</td>\n",
       "      <td>r</td>\n",
       "      <td>ae</td>\n",
       "      <td>c</td>\n",
       "      <td>d</td>\n",
       "      <td>aa</td>\n",
       "      <td>g</td>\n",
       "      <td>w</td>\n",
       "      <td>...</td>\n",
       "      <td>1</td>\n",
       "      <td>0</td>\n",
       "      <td>0</td>\n",
       "      <td>0</td>\n",
       "      <td>0</td>\n",
       "      <td>0</td>\n",
       "      <td>0</td>\n",
       "      <td>0</td>\n",
       "      <td>0</td>\n",
       "      <td>0</td>\n",
       "    </tr>\n",
       "  </tbody>\n",
       "</table>\n",
       "<p>4209 rows × 378 columns</p>\n",
       "</div>"
      ],
      "text/plain": [
       "        ID       y  X0 X1  X2 X3 X4  X5 X6 X8  ...  X375  X376  X377  X378  \\\n",
       "0        0  130.81   k  v  at  a  d   u  j  o  ...     0     0     1     0   \n",
       "1        6   88.53   k  t  av  e  d   y  l  o  ...     1     0     0     0   \n",
       "2        7   76.26  az  w   n  c  d   x  j  x  ...     0     0     0     0   \n",
       "3        9   80.62  az  t   n  f  d   x  l  e  ...     0     0     0     0   \n",
       "4       13   78.02  az  v   n  f  d   h  d  n  ...     0     0     0     0   \n",
       "...    ...     ...  .. ..  .. .. ..  .. .. ..  ...   ...   ...   ...   ...   \n",
       "4204  8405  107.39  ak  s  as  c  d  aa  d  q  ...     1     0     0     0   \n",
       "4205  8406  108.77   j  o   t  d  d  aa  h  h  ...     0     1     0     0   \n",
       "4206  8412  109.22  ak  v   r  a  d  aa  g  e  ...     0     0     1     0   \n",
       "4207  8415   87.48  al  r   e  f  d  aa  l  u  ...     0     0     0     0   \n",
       "4208  8417  110.85   z  r  ae  c  d  aa  g  w  ...     1     0     0     0   \n",
       "\n",
       "      X379  X380  X382  X383  X384  X385  \n",
       "0        0     0     0     0     0     0  \n",
       "1        0     0     0     0     0     0  \n",
       "2        0     0     1     0     0     0  \n",
       "3        0     0     0     0     0     0  \n",
       "4        0     0     0     0     0     0  \n",
       "...    ...   ...   ...   ...   ...   ...  \n",
       "4204     0     0     0     0     0     0  \n",
       "4205     0     0     0     0     0     0  \n",
       "4206     0     0     0     0     0     0  \n",
       "4207     0     0     0     0     0     0  \n",
       "4208     0     0     0     0     0     0  \n",
       "\n",
       "[4209 rows x 378 columns]"
      ]
     },
     "execution_count": 4,
     "metadata": {},
     "output_type": "execute_result"
    }
   ],
   "source": [
    "train_data"
   ]
  },
  {
   "cell_type": "code",
   "execution_count": 5,
   "id": "6d61fcd4",
   "metadata": {},
   "outputs": [
    {
     "data": {
      "text/plain": [
       "378"
      ]
     },
     "execution_count": 5,
     "metadata": {},
     "output_type": "execute_result"
    }
   ],
   "source": [
    "len(train_data.columns)"
   ]
  },
  {
   "cell_type": "code",
   "execution_count": 6,
   "id": "9a6ce47e",
   "metadata": {},
   "outputs": [
    {
     "data": {
      "text/plain": [
       "array([[<AxesSubplot:title={'center':'y'}>]], dtype=object)"
      ]
     },
     "execution_count": 6,
     "metadata": {},
     "output_type": "execute_result"
    },
    {
     "data": {
      "image/png": "[encoded data removed]",
      "text/plain": [
       "<Figure size 432x288 with 1 Axes>"
      ]
     },
     "metadata": {
      "needs_background": "light"
     },
     "output_type": "display_data"
    }
   ],
   "source": [
    "train_data.hist('y', bins=20)"
   ]
  },
  {
   "cell_type": "code",
   "execution_count": 7,
   "id": "db614082",
   "metadata": {},
   "outputs": [
    {
     "data": {
      "text/plain": [
       "count    4209.000000\n",
       "mean      100.669318\n",
       "std        12.679381\n",
       "min        72.110000\n",
       "25%        90.820000\n",
       "50%        99.150000\n",
       "75%       109.010000\n",
       "max       265.320000\n",
       "Name: y, dtype: float64"
      ]
     },
     "execution_count": 7,
     "metadata": {},
     "output_type": "execute_result"
    }
   ],
   "source": [
    "train_data['y'].describe()"
   ]
  },
  {
   "cell_type": "code",
   "execution_count": 8,
   "id": "eec64c11-9128-4c7c-9887-695593ab08c0",
   "metadata": {},
   "outputs": [
    {
     "data": {
      "text/html": [
       "<div>\n",
       "<style scoped>\n",
       "    .dataframe tbody tr th:only-of-type {\n",
       "        vertical-align: middle;\n",
       "    }\n",
       "\n",
       "    .dataframe tbody tr th {\n",
       "        vertical-align: top;\n",
       "    }\n",
       "\n",
       "    .dataframe thead th {\n",
       "        text-align: right;\n",
       "    }\n",
       "</style>\n",
       "<table border=\"1\" class=\"dataframe\">\n",
       "  <thead>\n",
       "    <tr style=\"text-align: right;\">\n",
       "      <th></th>\n",
       "      <th>ID</th>\n",
       "      <th>X0</th>\n",
       "      <th>X1</th>\n",
       "      <th>X2</th>\n",
       "      <th>X3</th>\n",
       "      <th>X4</th>\n",
       "      <th>X5</th>\n",
       "      <th>X6</th>\n",
       "      <th>X8</th>\n",
       "      <th>X10</th>\n",
       "      <th>...</th>\n",
       "      <th>X375</th>\n",
       "      <th>X376</th>\n",
       "      <th>X377</th>\n",
       "      <th>X378</th>\n",
       "      <th>X379</th>\n",
       "      <th>X380</th>\n",
       "      <th>X382</th>\n",
       "      <th>X383</th>\n",
       "      <th>X384</th>\n",
       "      <th>X385</th>\n",
       "    </tr>\n",
       "  </thead>\n",
       "  <tbody>\n",
       "    <tr>\n",
       "      <th>0</th>\n",
       "      <td>1</td>\n",
       "      <td>az</td>\n",
       "      <td>v</td>\n",
       "      <td>n</td>\n",
       "      <td>f</td>\n",
       "      <td>d</td>\n",
       "      <td>t</td>\n",
       "      <td>a</td>\n",
       "      <td>w</td>\n",
       "      <td>0</td>\n",
       "      <td>...</td>\n",
       "      <td>0</td>\n",
       "      <td>0</td>\n",
       "      <td>0</td>\n",
       "      <td>1</td>\n",
       "      <td>0</td>\n",
       "      <td>0</td>\n",
       "      <td>0</td>\n",
       "      <td>0</td>\n",
       "      <td>0</td>\n",
       "      <td>0</td>\n",
       "    </tr>\n",
       "    <tr>\n",
       "      <th>1</th>\n",
       "      <td>2</td>\n",
       "      <td>t</td>\n",
       "      <td>b</td>\n",
       "      <td>ai</td>\n",
       "      <td>a</td>\n",
       "      <td>d</td>\n",
       "      <td>b</td>\n",
       "      <td>g</td>\n",
       "      <td>y</td>\n",
       "      <td>0</td>\n",
       "      <td>...</td>\n",
       "      <td>0</td>\n",
       "      <td>0</td>\n",
       "      <td>1</td>\n",
       "      <td>0</td>\n",
       "      <td>0</td>\n",
       "      <td>0</td>\n",
       "      <td>0</td>\n",
       "      <td>0</td>\n",
       "      <td>0</td>\n",
       "      <td>0</td>\n",
       "    </tr>\n",
       "    <tr>\n",
       "      <th>2</th>\n",
       "      <td>3</td>\n",
       "      <td>az</td>\n",
       "      <td>v</td>\n",
       "      <td>as</td>\n",
       "      <td>f</td>\n",
       "      <td>d</td>\n",
       "      <td>a</td>\n",
       "      <td>j</td>\n",
       "      <td>j</td>\n",
       "      <td>0</td>\n",
       "      <td>...</td>\n",
       "      <td>0</td>\n",
       "      <td>0</td>\n",
       "      <td>0</td>\n",
       "      <td>1</td>\n",
       "      <td>0</td>\n",
       "      <td>0</td>\n",
       "      <td>0</td>\n",
       "      <td>0</td>\n",
       "      <td>0</td>\n",
       "      <td>0</td>\n",
       "    </tr>\n",
       "    <tr>\n",
       "      <th>3</th>\n",
       "      <td>4</td>\n",
       "      <td>az</td>\n",
       "      <td>l</td>\n",
       "      <td>n</td>\n",
       "      <td>f</td>\n",
       "      <td>d</td>\n",
       "      <td>z</td>\n",
       "      <td>l</td>\n",
       "      <td>n</td>\n",
       "      <td>0</td>\n",
       "      <td>...</td>\n",
       "      <td>0</td>\n",
       "      <td>0</td>\n",
       "      <td>0</td>\n",
       "      <td>1</td>\n",
       "      <td>0</td>\n",
       "      <td>0</td>\n",
       "      <td>0</td>\n",
       "      <td>0</td>\n",
       "      <td>0</td>\n",
       "      <td>0</td>\n",
       "    </tr>\n",
       "    <tr>\n",
       "      <th>4</th>\n",
       "      <td>5</td>\n",
       "      <td>w</td>\n",
       "      <td>s</td>\n",
       "      <td>as</td>\n",
       "      <td>c</td>\n",
       "      <td>d</td>\n",
       "      <td>y</td>\n",
       "      <td>i</td>\n",
       "      <td>m</td>\n",
       "      <td>0</td>\n",
       "      <td>...</td>\n",
       "      <td>1</td>\n",
       "      <td>0</td>\n",
       "      <td>0</td>\n",
       "      <td>0</td>\n",
       "      <td>0</td>\n",
       "      <td>0</td>\n",
       "      <td>0</td>\n",
       "      <td>0</td>\n",
       "      <td>0</td>\n",
       "      <td>0</td>\n",
       "    </tr>\n",
       "    <tr>\n",
       "      <th>...</th>\n",
       "      <td>...</td>\n",
       "      <td>...</td>\n",
       "      <td>...</td>\n",
       "      <td>...</td>\n",
       "      <td>...</td>\n",
       "      <td>...</td>\n",
       "      <td>...</td>\n",
       "      <td>...</td>\n",
       "      <td>...</td>\n",
       "      <td>...</td>\n",
       "      <td>...</td>\n",
       "      <td>...</td>\n",
       "      <td>...</td>\n",
       "      <td>...</td>\n",
       "      <td>...</td>\n",
       "      <td>...</td>\n",
       "      <td>...</td>\n",
       "      <td>...</td>\n",
       "      <td>...</td>\n",
       "      <td>...</td>\n",
       "      <td>...</td>\n",
       "    </tr>\n",
       "    <tr>\n",
       "      <th>4204</th>\n",
       "      <td>8410</td>\n",
       "      <td>aj</td>\n",
       "      <td>h</td>\n",
       "      <td>as</td>\n",
       "      <td>f</td>\n",
       "      <td>d</td>\n",
       "      <td>aa</td>\n",
       "      <td>j</td>\n",
       "      <td>e</td>\n",
       "      <td>0</td>\n",
       "      <td>...</td>\n",
       "      <td>0</td>\n",
       "      <td>0</td>\n",
       "      <td>0</td>\n",
       "      <td>0</td>\n",
       "      <td>0</td>\n",
       "      <td>0</td>\n",
       "      <td>0</td>\n",
       "      <td>0</td>\n",
       "      <td>0</td>\n",
       "      <td>0</td>\n",
       "    </tr>\n",
       "    <tr>\n",
       "      <th>4205</th>\n",
       "      <td>8411</td>\n",
       "      <td>t</td>\n",
       "      <td>aa</td>\n",
       "      <td>ai</td>\n",
       "      <td>d</td>\n",
       "      <td>d</td>\n",
       "      <td>aa</td>\n",
       "      <td>j</td>\n",
       "      <td>y</td>\n",
       "      <td>0</td>\n",
       "      <td>...</td>\n",
       "      <td>0</td>\n",
       "      <td>1</td>\n",
       "      <td>0</td>\n",
       "      <td>0</td>\n",
       "      <td>0</td>\n",
       "      <td>0</td>\n",
       "      <td>0</td>\n",
       "      <td>0</td>\n",
       "      <td>0</td>\n",
       "      <td>0</td>\n",
       "    </tr>\n",
       "    <tr>\n",
       "      <th>4206</th>\n",
       "      <td>8413</td>\n",
       "      <td>y</td>\n",
       "      <td>v</td>\n",
       "      <td>as</td>\n",
       "      <td>f</td>\n",
       "      <td>d</td>\n",
       "      <td>aa</td>\n",
       "      <td>d</td>\n",
       "      <td>w</td>\n",
       "      <td>0</td>\n",
       "      <td>...</td>\n",
       "      <td>0</td>\n",
       "      <td>0</td>\n",
       "      <td>0</td>\n",
       "      <td>0</td>\n",
       "      <td>0</td>\n",
       "      <td>0</td>\n",
       "      <td>0</td>\n",
       "      <td>0</td>\n",
       "      <td>0</td>\n",
       "      <td>0</td>\n",
       "    </tr>\n",
       "    <tr>\n",
       "      <th>4207</th>\n",
       "      <td>8414</td>\n",
       "      <td>ak</td>\n",
       "      <td>v</td>\n",
       "      <td>as</td>\n",
       "      <td>a</td>\n",
       "      <td>d</td>\n",
       "      <td>aa</td>\n",
       "      <td>c</td>\n",
       "      <td>q</td>\n",
       "      <td>0</td>\n",
       "      <td>...</td>\n",
       "      <td>0</td>\n",
       "      <td>0</td>\n",
       "      <td>1</td>\n",
       "      <td>0</td>\n",
       "      <td>0</td>\n",
       "      <td>0</td>\n",
       "      <td>0</td>\n",
       "      <td>0</td>\n",
       "      <td>0</td>\n",
       "      <td>0</td>\n",
       "    </tr>\n",
       "    <tr>\n",
       "      <th>4208</th>\n",
       "      <td>8416</td>\n",
       "      <td>t</td>\n",
       "      <td>aa</td>\n",
       "      <td>ai</td>\n",
       "      <td>c</td>\n",
       "      <td>d</td>\n",
       "      <td>aa</td>\n",
       "      <td>g</td>\n",
       "      <td>r</td>\n",
       "      <td>0</td>\n",
       "      <td>...</td>\n",
       "      <td>1</td>\n",
       "      <td>0</td>\n",
       "      <td>0</td>\n",
       "      <td>0</td>\n",
       "      <td>0</td>\n",
       "      <td>0</td>\n",
       "      <td>0</td>\n",
       "      <td>0</td>\n",
       "      <td>0</td>\n",
       "      <td>0</td>\n",
       "    </tr>\n",
       "  </tbody>\n",
       "</table>\n",
       "<p>4209 rows × 377 columns</p>\n",
       "</div>"
      ],
      "text/plain": [
       "        ID  X0  X1  X2 X3 X4  X5 X6 X8  X10  ...  X375  X376  X377  X378  \\\n",
       "0        1  az   v   n  f  d   t  a  w    0  ...     0     0     0     1   \n",
       "1        2   t   b  ai  a  d   b  g  y    0  ...     0     0     1     0   \n",
       "2        3  az   v  as  f  d   a  j  j    0  ...     0     0     0     1   \n",
       "3        4  az   l   n  f  d   z  l  n    0  ...     0     0     0     1   \n",
       "4        5   w   s  as  c  d   y  i  m    0  ...     1     0     0     0   \n",
       "...    ...  ..  ..  .. .. ..  .. .. ..  ...  ...   ...   ...   ...   ...   \n",
       "4204  8410  aj   h  as  f  d  aa  j  e    0  ...     0     0     0     0   \n",
       "4205  8411   t  aa  ai  d  d  aa  j  y    0  ...     0     1     0     0   \n",
       "4206  8413   y   v  as  f  d  aa  d  w    0  ...     0     0     0     0   \n",
       "4207  8414  ak   v  as  a  d  aa  c  q    0  ...     0     0     1     0   \n",
       "4208  8416   t  aa  ai  c  d  aa  g  r    0  ...     1     0     0     0   \n",
       "\n",
       "      X379  X380  X382  X383  X384  X385  \n",
       "0        0     0     0     0     0     0  \n",
       "1        0     0     0     0     0     0  \n",
       "2        0     0     0     0     0     0  \n",
       "3        0     0     0     0     0     0  \n",
       "4        0     0     0     0     0     0  \n",
       "...    ...   ...   ...   ...   ...   ...  \n",
       "4204     0     0     0     0     0     0  \n",
       "4205     0     0     0     0     0     0  \n",
       "4206     0     0     0     0     0     0  \n",
       "4207     0     0     0     0     0     0  \n",
       "4208     0     0     0     0     0     0  \n",
       "\n",
       "[4209 rows x 377 columns]"
      ]
     },
     "execution_count": 8,
     "metadata": {},
     "output_type": "execute_result"
    }
   ],
   "source": [
    "test_data"
   ]
  },
  {
   "cell_type": "code",
   "execution_count": 9,
   "id": "b90133a4",
   "metadata": {},
   "outputs": [
    {
     "data": {
      "text/plain": [
       "int64      369\n",
       "object       8\n",
       "float64      1\n",
       "dtype: int64"
      ]
     },
     "execution_count": 9,
     "metadata": {},
     "output_type": "execute_result"
    }
   ],
   "source": [
    "train_data.dtypes.value_counts()"
   ]
  },
  {
   "cell_type": "code",
   "execution_count": 10,
   "id": "89005018-4f8c-4ecf-a569-5ddfc03d29dd",
   "metadata": {},
   "outputs": [
    {
     "data": {
      "text/plain": [
       "0"
      ]
     },
     "execution_count": 10,
     "metadata": {},
     "output_type": "execute_result"
    }
   ],
   "source": [
    "#how much NaN in data\n",
    "train_data.isna().sum().sum()"
   ]
  },
  {
   "cell_type": "code",
   "execution_count": 11,
   "id": "e33518a5",
   "metadata": {
    "scrolled": true
   },
   "outputs": [
    {
     "data": {
      "text/html": [
       "<div>\n",
       "<style scoped>\n",
       "    .dataframe tbody tr th:only-of-type {\n",
       "        vertical-align: middle;\n",
       "    }\n",
       "\n",
       "    .dataframe tbody tr th {\n",
       "        vertical-align: top;\n",
       "    }\n",
       "\n",
       "    .dataframe thead th {\n",
       "        text-align: right;\n",
       "    }\n",
       "</style>\n",
       "<table border=\"1\" class=\"dataframe\">\n",
       "  <thead>\n",
       "    <tr style=\"text-align: right;\">\n",
       "      <th></th>\n",
       "      <th>X10</th>\n",
       "      <th>X11</th>\n",
       "      <th>X12</th>\n",
       "      <th>X13</th>\n",
       "      <th>X14</th>\n",
       "      <th>X15</th>\n",
       "      <th>X16</th>\n",
       "      <th>X17</th>\n",
       "      <th>X18</th>\n",
       "      <th>X19</th>\n",
       "      <th>...</th>\n",
       "      <th>X375</th>\n",
       "      <th>X376</th>\n",
       "      <th>X377</th>\n",
       "      <th>X378</th>\n",
       "      <th>X379</th>\n",
       "      <th>X380</th>\n",
       "      <th>X382</th>\n",
       "      <th>X383</th>\n",
       "      <th>X384</th>\n",
       "      <th>X385</th>\n",
       "    </tr>\n",
       "  </thead>\n",
       "  <tbody>\n",
       "    <tr>\n",
       "      <th>0</th>\n",
       "      <td>4153</td>\n",
       "      <td>4209.0</td>\n",
       "      <td>3893</td>\n",
       "      <td>3965</td>\n",
       "      <td>2407</td>\n",
       "      <td>4207</td>\n",
       "      <td>4198</td>\n",
       "      <td>4177</td>\n",
       "      <td>4176</td>\n",
       "      <td>3790</td>\n",
       "      <td>...</td>\n",
       "      <td>2867</td>\n",
       "      <td>3968</td>\n",
       "      <td>2884</td>\n",
       "      <td>4122</td>\n",
       "      <td>4169</td>\n",
       "      <td>4175</td>\n",
       "      <td>4177</td>\n",
       "      <td>4202</td>\n",
       "      <td>4207</td>\n",
       "      <td>4203</td>\n",
       "    </tr>\n",
       "    <tr>\n",
       "      <th>1</th>\n",
       "      <td>56</td>\n",
       "      <td>NaN</td>\n",
       "      <td>316</td>\n",
       "      <td>244</td>\n",
       "      <td>1802</td>\n",
       "      <td>2</td>\n",
       "      <td>11</td>\n",
       "      <td>32</td>\n",
       "      <td>33</td>\n",
       "      <td>419</td>\n",
       "      <td>...</td>\n",
       "      <td>1342</td>\n",
       "      <td>241</td>\n",
       "      <td>1325</td>\n",
       "      <td>87</td>\n",
       "      <td>40</td>\n",
       "      <td>34</td>\n",
       "      <td>32</td>\n",
       "      <td>7</td>\n",
       "      <td>2</td>\n",
       "      <td>6</td>\n",
       "    </tr>\n",
       "  </tbody>\n",
       "</table>\n",
       "<p>2 rows × 368 columns</p>\n",
       "</div>"
      ],
      "text/plain": [
       "    X10     X11   X12   X13   X14   X15   X16   X17   X18   X19  ...  X375  \\\n",
       "0  4153  4209.0  3893  3965  2407  4207  4198  4177  4176  3790  ...  2867   \n",
       "1    56     NaN   316   244  1802     2    11    32    33   419  ...  1342   \n",
       "\n",
       "   X376  X377  X378  X379  X380  X382  X383  X384  X385  \n",
       "0  3968  2884  4122  4169  4175  4177  4202  4207  4203  \n",
       "1   241  1325    87    40    34    32     7     2     6  \n",
       "\n",
       "[2 rows x 368 columns]"
      ]
     },
     "execution_count": 11,
     "metadata": {},
     "output_type": "execute_result"
    }
   ],
   "source": [
    "test_frame = []\n",
    "for s in train_data.iloc[:, range(10, train_data.shape[1])]:\n",
    "    test_frame.append(train_data[s].value_counts().to_frame())\n",
    "\n",
    "pd.concat(test_frame, axis=1)\n",
    "\n",
    "#only 0 and 1 in X10..X385"
   ]
  },
  {
   "cell_type": "markdown",
   "id": "61287e9e-7561-4c4c-820d-ebd2f6dc66c4",
   "metadata": {},
   "source": [
    "Можно заметить, что в наборе данных присутствуют признаки, значения которых варируются \"не сильно\""
   ]
  },
  {
   "cell_type": "code",
   "execution_count": 12,
   "id": "58cf7042",
   "metadata": {
    "scrolled": true
   },
   "outputs": [],
   "source": [
    "categorical_columns = []\n",
    "binary_columns = []\n",
    "for columns in train_data.columns:\n",
    "    if train_data[columns].dtype == object:\n",
    "        categorical_columns.append(columns)\n",
    "    else:\n",
    "        binary_columns.append(columns)\n",
    "#print(categorical_columns, binary_columns)"
   ]
  },
  {
   "cell_type": "code",
   "execution_count": 13,
   "id": "ae1cec0f-ff0b-4fcd-85d3-0ab7205f5749",
   "metadata": {},
   "outputs": [
    {
     "data": {
      "image/png": "[encoded data removed]",
      "text/plain": [
       "<Figure size 432x288 with 1 Axes>"
      ]
     },
     "metadata": {
      "needs_background": "light"
     },
     "output_type": "display_data"
    },
    {
     "data": {
      "image/png": "[encoded data removed]",
      "text/plain": [
       "<Figure size 432x288 with 1 Axes>"
      ]
     },
     "metadata": {
      "needs_background": "light"
     },
     "output_type": "display_data"
    },
    {
     "data": {
      "image/png": "[encoded data removed]",
      "text/plain": [
       "<Figure size 432x288 with 1 Axes>"
      ]
     },
     "metadata": {
      "needs_background": "light"
     },
     "output_type": "display_data"
    },
    {
     "data": {
      "image/png": "[encoded data removed]",
      "text/plain": [
       "<Figure size 432x288 with 1 Axes>"
      ]
     },
     "metadata": {
      "needs_background": "light"
     },
     "output_type": "display_data"
    },
    {
     "data": {
      "image/png": "[encoded data removed]",
      "text/plain": [
       "<Figure size 432x288 with 1 Axes>"
      ]
     },
     "metadata": {
      "needs_background": "light"
     },
     "output_type": "display_data"
    },
    {
     "data": {
      "image/png": "[encoded data removed]",
      "text/plain": [
       "<Figure size 432x288 with 1 Axes>"
      ]
     },
     "metadata": {
      "needs_background": "light"
     },
     "output_type": "display_data"
    },
    {
     "data": {
      "image/png": "[encoded data removed]",
      "text/plain": [
       "<Figure size 432x288 with 1 Axes>"
      ]
     },
     "metadata": {
      "needs_background": "light"
     },
     "output_type": "display_data"
    },
    {
     "data": {
      "image/png": "[encoded data removed]",
      "text/plain": [
       "<Figure size 432x288 with 1 Axes>"
      ]
     },
     "metadata": {
      "needs_background": "light"
     },
     "output_type": "display_data"
    }
   ],
   "source": [
    "for col in categorical_columns:\n",
    "    sns.histplot(train_data[col])\n",
    "    plt.show()"
   ]
  },
  {
   "cell_type": "markdown",
   "id": "83a67ba2-b40d-421f-bc71-d4c2870ea602",
   "metadata": {},
   "source": [
    "Признак X4 выглядит подозрительно невариативно"
   ]
  },
  {
   "cell_type": "code",
   "execution_count": 14,
   "id": "94530834",
   "metadata": {},
   "outputs": [],
   "source": [
    "def get_x_y_separate_with_id(df):\n",
    "    return df.drop(['y'],axis=1), df['y']\n",
    "\n",
    "def get_x_y_separate_without_id(df):\n",
    "    return df.drop(['ID', 'y'],axis=1), df['y']"
   ]
  },
  {
   "cell_type": "code",
   "execution_count": 15,
   "id": "02d83f72-ed67-4a29-9b6c-5afbd12eb89f",
   "metadata": {},
   "outputs": [],
   "source": [
    "noid_X_train, noid_y_train = get_x_y_separate_without_id(train_data)"
   ]
  },
  {
   "cell_type": "code",
   "execution_count": 16,
   "id": "f4532f8c-fc82-4225-ab5c-5fffc9ba60c4",
   "metadata": {},
   "outputs": [],
   "source": [
    "id_X_train, id_y_train = get_x_y_separate_with_id(train_data)"
   ]
  },
  {
   "cell_type": "markdown",
   "id": "2fec96c7",
   "metadata": {},
   "source": [
    "# Leave One Out Encoder and 3 models"
   ]
  },
  {
   "cell_type": "markdown",
   "id": "f594b688-6734-44c3-bdff-fdfbe803a9f5",
   "metadata": {},
   "source": [
    "## BayesianRidge"
   ]
  },
  {
   "cell_type": "code",
   "execution_count": 17,
   "id": "55519abd-4d58-4479-8614-c9643b14f271",
   "metadata": {},
   "outputs": [],
   "source": [
    "k_fold = KFold(5, random_state=42, shuffle=True)"
   ]
  },
  {
   "cell_type": "code",
   "execution_count": 18,
   "id": "6da953e4-6132-4518-8d5e-1fbecb90f380",
   "metadata": {},
   "outputs": [],
   "source": [
    "X_train, X_test, y_train, y_test = train_test_split(noid_X_train, noid_y_train, test_size=0.05, random_state=42)"
   ]
  },
  {
   "cell_type": "code",
   "execution_count": 19,
   "id": "a9bd1857-6954-4713-baee-3df09ada40f1",
   "metadata": {},
   "outputs": [],
   "source": [
    "pipeline_only_encoding_br = Pipeline([\n",
    "    ('encoder', ce.LeaveOneOutEncoder()),\n",
    "    ('regressor', BayesianRidge()),\n",
    "])"
   ]
  },
  {
   "cell_type": "code",
   "execution_count": 20,
   "id": "515e1bfc",
   "metadata": {},
   "outputs": [],
   "source": [
    "scores_br = cross_val_score(\n",
    "    pipeline_only_encoding_br, X_train, y_train, \n",
    "    cv=k_fold, scoring='r2'\n",
    ")"
   ]
  },
  {
   "cell_type": "code",
   "execution_count": 21,
   "id": "50f2ca8f-b7b6-440a-876b-5b3002f71b0c",
   "metadata": {},
   "outputs": [
    {
     "data": {
      "text/plain": [
       "array([0.6208081 , 0.59444296, 0.46718812, 0.55862679, 0.55535491])"
      ]
     },
     "execution_count": 21,
     "metadata": {},
     "output_type": "execute_result"
    }
   ],
   "source": [
    "scores_br"
   ]
  },
  {
   "cell_type": "code",
   "execution_count": 22,
   "id": "3c080db4-ab27-4128-9470-404b661288c3",
   "metadata": {},
   "outputs": [
    {
     "name": "stdout",
     "output_type": "stream",
     "text": [
      "Cross-validated R2: 0.559 +/- 0.052\n"
     ]
    }
   ],
   "source": [
    "print('Cross-validated R2: %0.3f +/- %0.3f' % (scores_br.mean(), scores_br.std()))"
   ]
  },
  {
   "cell_type": "code",
   "execution_count": 23,
   "id": "422fbed1-5fcc-4422-8015-5d0c303ef2e1",
   "metadata": {},
   "outputs": [
    {
     "data": {
      "text/plain": [
       "Pipeline(steps=[('encoder',\n",
       "                 LeaveOneOutEncoder(cols=['X0', 'X1', 'X2', 'X3', 'X4', 'X5',\n",
       "                                          'X6', 'X8'])),\n",
       "                ('regressor', BayesianRidge())])"
      ]
     },
     "execution_count": 23,
     "metadata": {},
     "output_type": "execute_result"
    }
   ],
   "source": [
    "pipeline_only_encoding_br.fit(X_train, y_train)"
   ]
  },
  {
   "cell_type": "code",
   "execution_count": 24,
   "id": "89742c37-9c71-481c-9cf0-ebbbf07eedd0",
   "metadata": {},
   "outputs": [
    {
     "data": {
      "text/plain": [
       "0.5816860206812092"
      ]
     },
     "execution_count": 24,
     "metadata": {},
     "output_type": "execute_result"
    }
   ],
   "source": [
    "pipeline_only_encoding_br.score(X_train, y_train)"
   ]
  },
  {
   "cell_type": "code",
   "execution_count": 25,
   "id": "8cff2c8b-dab3-4e1f-b33d-ae2034588c37",
   "metadata": {},
   "outputs": [
    {
     "data": {
      "text/plain": [
       "0.6302058761034481"
      ]
     },
     "execution_count": 25,
     "metadata": {},
     "output_type": "execute_result"
    }
   ],
   "source": [
    "pipeline_only_encoding_br.score(X_test, y_test)"
   ]
  },
  {
   "cell_type": "markdown",
   "id": "0a3267fd-f42f-4071-997d-e7e3da6eb594",
   "metadata": {},
   "source": [
    "## DecisionTree"
   ]
  },
  {
   "cell_type": "code",
   "execution_count": 26,
   "id": "99e316a0-ac0e-4337-bef0-e2167b9f319b",
   "metadata": {},
   "outputs": [],
   "source": [
    "pipeline_only_encoding_dt = Pipeline([\n",
    "    ('encoder', ce.LeaveOneOutEncoder()),\n",
    "    ('regressor', DecisionTreeRegressor(max_depth=10, random_state=42)),\n",
    "])"
   ]
  },
  {
   "cell_type": "code",
   "execution_count": 27,
   "id": "671186ea-725a-4e1a-931d-bbef1f207db8",
   "metadata": {},
   "outputs": [],
   "source": [
    "scores_dt = cross_val_score(\n",
    "    pipeline_only_encoding_dt, X_train, y_train, \n",
    "    cv=k_fold, scoring='r2'\n",
    ")"
   ]
  },
  {
   "cell_type": "code",
   "execution_count": 28,
   "id": "f8e6996d-32bf-4b06-bc5f-308d1bc8a742",
   "metadata": {},
   "outputs": [
    {
     "name": "stdout",
     "output_type": "stream",
     "text": [
      "Cross-validated R2: -0.004 +/- 0.005\n"
     ]
    }
   ],
   "source": [
    "print('Cross-validated R2: %0.3f +/- %0.3f' % (scores_dt.mean(), scores_dt.std()))"
   ]
  },
  {
   "cell_type": "markdown",
   "id": "55a55011-5558-47fa-8cca-361eb5585390",
   "metadata": {},
   "source": [
    "## RandomForest"
   ]
  },
  {
   "cell_type": "code",
   "execution_count": 29,
   "id": "927d9773-1fca-44cb-9a81-b8eaca55da0f",
   "metadata": {},
   "outputs": [],
   "source": [
    "pipeline_only_encoding_rf = Pipeline([\n",
    "    ('encoder', ce.LeaveOneOutEncoder()),\n",
    "    ('regressor', RandomForestRegressor(n_estimators=100, max_depth=10, random_state=42)),\n",
    "])"
   ]
  },
  {
   "cell_type": "code",
   "execution_count": 30,
   "id": "fb8bb068-0d46-4956-b2e0-47404eb97276",
   "metadata": {},
   "outputs": [],
   "source": [
    "scores_rf = cross_val_score(\n",
    "    pipeline_only_encoding_rf, X_train, y_train, \n",
    "    cv=k_fold, scoring='r2'\n",
    ")"
   ]
  },
  {
   "cell_type": "code",
   "execution_count": 31,
   "id": "51609c71-597c-409e-bb1a-b8f8aee663b9",
   "metadata": {},
   "outputs": [
    {
     "data": {
      "text/plain": [
       "array([-0.00050213, -0.00069332, -0.00069217, -0.00134956, -0.00027045])"
      ]
     },
     "execution_count": 31,
     "metadata": {},
     "output_type": "execute_result"
    }
   ],
   "source": [
    "scores_rf"
   ]
  },
  {
   "cell_type": "code",
   "execution_count": 32,
   "id": "1157fea8-ebdf-4291-98c8-3663cc87acee",
   "metadata": {},
   "outputs": [
    {
     "name": "stdout",
     "output_type": "stream",
     "text": [
      "Cross-validated R2: -0.001 +/- 0.000\n"
     ]
    }
   ],
   "source": [
    "print('Cross-validated R2: %0.3f +/- %0.3f' % (scores_rf.mean(), scores_rf.std()))"
   ]
  },
  {
   "cell_type": "markdown",
   "id": "76ce5a3b-5ab5-42e7-abb0-e9bc30681b84",
   "metadata": {},
   "source": [
    "# Добавим FeatureTools"
   ]
  },
  {
   "cell_type": "code",
   "execution_count": 33,
   "id": "edd4a94d-f5b8-407b-ac16-13c756b52478",
   "metadata": {},
   "outputs": [],
   "source": [
    "from featuretools.wrappers import DFSTransformer\n",
    "from featuretools.primitives import MultiplyBoolean\n",
    "from featuretools.primitives import NumUnique"
   ]
  },
  {
   "cell_type": "code",
   "execution_count": 34,
   "id": "5a778653",
   "metadata": {},
   "outputs": [],
   "source": [
    "variable_types = {}\n",
    "for column in categorical_columns:\n",
    "    variable_types[column] = ft.variable_types.Categorical\n",
    "for column in binary_columns:\n",
    "    if column == 'ID' or column =='y':\n",
    "        continue\n",
    "    variable_types[column] = ft.variable_types.Boolean"
   ]
  },
  {
   "cell_type": "code",
   "execution_count": 35,
   "id": "86f8d312-404e-478b-b21c-09883d2e7e25",
   "metadata": {},
   "outputs": [],
   "source": [
    "id_x_train, id_y_train = get_x_y_separate_with_id(train_data)"
   ]
  },
  {
   "cell_type": "code",
   "execution_count": 36,
   "id": "59c0ad11-d23b-4a13-9aa7-f06aa3acd879",
   "metadata": {},
   "outputs": [],
   "source": [
    "X_train_id, X_test_id, y_train_id, y_test_id = train_test_split(id_X_train, id_y_train, test_size=0.05, random_state=42)"
   ]
  },
  {
   "cell_type": "code",
   "execution_count": 37,
   "id": "b9998800-8fd9-44d9-9da8-209e2661a389",
   "metadata": {},
   "outputs": [],
   "source": [
    "es_tr = ft.EntitySet(id='cars_info')\n",
    "es_tr = es_tr.entity_from_dataframe(entity_id='cars_info', dataframe=X_train_id, index='ID', variable_types=variable_types)"
   ]
  },
  {
   "cell_type": "code",
   "execution_count": 38,
   "id": "6e044c88-b769-4e92-b097-ce44481c5c88",
   "metadata": {},
   "outputs": [],
   "source": [
    "pipeline_ft_br = Pipeline([\n",
    "    ('ft', DFSTransformer(target_entity='cars_info', trans_primitives = [MultiplyBoolean()],\n",
    "              max_depth=1, max_features=1000)),\n",
    "    ('encoder', ce.LeaveOneOutEncoder()),\n",
    "    ('imputer', SimpleImputer(strategy='most_frequent')),\n",
    "    ('regressor', BayesianRidge()),\n",
    "])"
   ]
  },
  {
   "cell_type": "code",
   "execution_count": 39,
   "id": "905a3afe-27e6-4ece-94ff-79427a464990",
   "metadata": {},
   "outputs": [
    {
     "name": "stderr",
     "output_type": "stream",
     "text": [
      "c:\\users\\akagi\\documents\\otus\\1-automl\\env\\lib\\site-packages\\pandas\\core\\frame.py:4481: PerformanceWarning: DataFrame is highly fragmented.  This is usually the result of calling `frame.insert` many times, which has poor performance.  Consider using pd.concat instead.  To get a de-fragmented frame, use `newframe = frame.copy()`\n",
      "  data[k] = com.apply_if_callable(v, data)\n"
     ]
    },
    {
     "data": {
      "text/plain": [
       "Pipeline(steps=[('ft',\n",
       "                 <featuretools_sklearn_transformer.transformer.DFSTransformer object at 0x000002DE16F1D5B0>),\n",
       "                ('encoder',\n",
       "                 LeaveOneOutEncoder(cols=['X0', 'X1', 'X2', 'X3', 'X4', 'X5',\n",
       "                                          'X6', 'X8'])),\n",
       "                ('imputer', SimpleImputer(strategy='most_frequent')),\n",
       "                ('regressor', BayesianRidge())])"
      ]
     },
     "execution_count": 39,
     "metadata": {},
     "output_type": "execute_result"
    }
   ],
   "source": [
    "pipeline_ft_br.fit(es_tr, y_train_id)"
   ]
  },
  {
   "cell_type": "code",
   "execution_count": 40,
   "id": "563844f8-abbf-490b-a5d0-07cee2c139d9",
   "metadata": {},
   "outputs": [
    {
     "name": "stderr",
     "output_type": "stream",
     "text": [
      "c:\\users\\akagi\\documents\\otus\\1-automl\\env\\lib\\site-packages\\pandas\\core\\frame.py:4481: PerformanceWarning: DataFrame is highly fragmented.  This is usually the result of calling `frame.insert` many times, which has poor performance.  Consider using pd.concat instead.  To get a de-fragmented frame, use `newframe = frame.copy()`\n",
      "  data[k] = com.apply_if_callable(v, data)\n"
     ]
    },
    {
     "data": {
      "text/plain": [
       "0.5775038408994175"
      ]
     },
     "execution_count": 40,
     "metadata": {},
     "output_type": "execute_result"
    }
   ],
   "source": [
    "pipeline_ft_br.score(es_tr, y_train_id)"
   ]
  },
  {
   "cell_type": "code",
   "execution_count": 41,
   "id": "da08ded9-bac6-4ae2-b4d9-2d31163b4e0c",
   "metadata": {},
   "outputs": [],
   "source": [
    "es_test = ft.EntitySet(id='cars_info')\n",
    "es_test = es_test.entity_from_dataframe(entity_id='cars_info', dataframe=X_test_id, index='ID', variable_types=variable_types)"
   ]
  },
  {
   "cell_type": "code",
   "execution_count": 42,
   "id": "7b8d370e-3131-4c83-b6c6-99187dc688c5",
   "metadata": {},
   "outputs": [
    {
     "name": "stderr",
     "output_type": "stream",
     "text": [
      "c:\\users\\akagi\\documents\\otus\\1-automl\\env\\lib\\site-packages\\pandas\\core\\frame.py:4481: PerformanceWarning: DataFrame is highly fragmented.  This is usually the result of calling `frame.insert` many times, which has poor performance.  Consider using pd.concat instead.  To get a de-fragmented frame, use `newframe = frame.copy()`\n",
      "  data[k] = com.apply_if_callable(v, data)\n"
     ]
    },
    {
     "data": {
      "text/plain": [
       "0.6237903330478138"
      ]
     },
     "execution_count": 42,
     "metadata": {},
     "output_type": "execute_result"
    }
   ],
   "source": [
    "pipeline_ft_br.score(es_test, y_test_id)"
   ]
  },
  {
   "cell_type": "markdown",
   "id": "e3e0c2a8-0981-47f8-a587-f088f4a5c505",
   "metadata": {},
   "source": [
    "# Добавим фильтрацию"
   ]
  },
  {
   "cell_type": "code",
   "execution_count": 43,
   "id": "72a9e215-ca17-4fb4-b3c5-80733a6d7c1b",
   "metadata": {},
   "outputs": [],
   "source": [
    "X_train, X_test, y_train, y_test = train_test_split(noid_X_train, noid_y_train, test_size=0.05, random_state=42)\n",
    "k_fold = KFold(5, random_state=42, shuffle=True)"
   ]
  },
  {
   "cell_type": "code",
   "execution_count": 44,
   "id": "db35a238-0a81-4b25-97e2-7b0d56a7e096",
   "metadata": {},
   "outputs": [],
   "source": [
    "class CorrSelector:\n",
    "    def __init__(self, threshold):\n",
    "        self.threshold = threshold\n",
    "    \n",
    "    def fit(self, X, y=None):\n",
    "        corr = np.absolute(np.corrcoef(X, rowvar=False))\n",
    "        upper = corr*np.triu(np.ones(corr.shape), k=1).astype(bool)\n",
    "        self.to_drop = [column for column in range(upper.shape[1]) if any(upper[:,column] >= self.threshold)]\n",
    "        return self\n",
    "    \n",
    "    def transform(self, X):\n",
    "        return np.delete(X, self.to_drop, axis=1)"
   ]
  },
  {
   "cell_type": "code",
   "execution_count": 45,
   "id": "d0e18617-8d69-4e35-9f39-100433f2618c",
   "metadata": {},
   "outputs": [],
   "source": [
    "pipeline_filt_br = Pipeline([\n",
    "    ('encoder', ce.LeaveOneOutEncoder()),\n",
    "    ('filter_var', VarianceThreshold(.99 * (1 - .99))),\n",
    "    ('correlated_remover', CorrSelector(.99)),\n",
    "    ('from_model', SelectFromModel(BayesianRidge())),\n",
    "    ('regressor', BayesianRidge()),\n",
    "])"
   ]
  },
  {
   "cell_type": "code",
   "execution_count": 46,
   "id": "99e267bc-a035-431a-81d6-1b84c50e095e",
   "metadata": {},
   "outputs": [
    {
     "name": "stderr",
     "output_type": "stream",
     "text": [
      "c:\\users\\akagi\\documents\\otus\\1-automl\\env\\lib\\site-packages\\category_encoders\\utils.py:21: FutureWarning: is_categorical is deprecated and will be removed in a future version.  Use is_categorical_dtype instead\n",
      "  elif pd.api.types.is_categorical(cols):\n",
      "c:\\users\\akagi\\documents\\otus\\1-automl\\env\\lib\\site-packages\\category_encoders\\utils.py:21: FutureWarning: is_categorical is deprecated and will be removed in a future version.  Use is_categorical_dtype instead\n",
      "  elif pd.api.types.is_categorical(cols):\n",
      "c:\\users\\akagi\\documents\\otus\\1-automl\\env\\lib\\site-packages\\category_encoders\\utils.py:21: FutureWarning: is_categorical is deprecated and will be removed in a future version.  Use is_categorical_dtype instead\n",
      "  elif pd.api.types.is_categorical(cols):\n",
      "c:\\users\\akagi\\documents\\otus\\1-automl\\env\\lib\\site-packages\\category_encoders\\utils.py:21: FutureWarning: is_categorical is deprecated and will be removed in a future version.  Use is_categorical_dtype instead\n",
      "  elif pd.api.types.is_categorical(cols):\n",
      "c:\\users\\akagi\\documents\\otus\\1-automl\\env\\lib\\site-packages\\category_encoders\\utils.py:21: FutureWarning: is_categorical is deprecated and will be removed in a future version.  Use is_categorical_dtype instead\n",
      "  elif pd.api.types.is_categorical(cols):\n"
     ]
    }
   ],
   "source": [
    "scores_filt_br = cross_val_score(\n",
    "    pipeline_only_encoding_br, X_train, y_train, \n",
    "    cv=k_fold, scoring='r2'\n",
    ")"
   ]
  },
  {
   "cell_type": "code",
   "execution_count": 47,
   "id": "8c0ad001-92e7-4ae3-9f35-c6c2e4316284",
   "metadata": {},
   "outputs": [
    {
     "data": {
      "text/plain": [
       "Pipeline(steps=[('encoder',\n",
       "                 LeaveOneOutEncoder(cols=['X0', 'X1', 'X2', 'X3', 'X4', 'X5',\n",
       "                                          'X6', 'X8'])),\n",
       "                ('filter_var',\n",
       "                 VarianceThreshold(threshold=0.00990000000000001)),\n",
       "                ('correlated_remover',\n",
       "                 <__main__.CorrSelector object at 0x000002DE24CEA8B0>),\n",
       "                ('from_model', SelectFromModel(estimator=BayesianRidge())),\n",
       "                ('regressor', BayesianRidge())])"
      ]
     },
     "execution_count": 47,
     "metadata": {},
     "output_type": "execute_result"
    }
   ],
   "source": [
    "pipeline_filt_br.fit(X_train, y_train)"
   ]
  },
  {
   "cell_type": "code",
   "execution_count": 48,
   "id": "3d60b9e9-bd44-46cd-842e-5b38bcadb3d8",
   "metadata": {},
   "outputs": [
    {
     "data": {
      "text/plain": [
       "0.5824849288577093"
      ]
     },
     "execution_count": 48,
     "metadata": {},
     "output_type": "execute_result"
    }
   ],
   "source": [
    "pipeline_filt_br.score(X_train, y_train)"
   ]
  },
  {
   "cell_type": "code",
   "execution_count": 49,
   "id": "b3924916-6a7e-4e4c-b50f-8cb86a1dbb76",
   "metadata": {},
   "outputs": [
    {
     "data": {
      "text/plain": [
       "0.6322544558797966"
      ]
     },
     "execution_count": 49,
     "metadata": {},
     "output_type": "execute_result"
    }
   ],
   "source": [
    "pipeline_filt_br.score(X_test, y_test)"
   ]
  },
  {
   "cell_type": "code",
   "execution_count": 50,
   "id": "b6493bbc-3c59-4d42-b844-daa4cd4a53c2",
   "metadata": {},
   "outputs": [],
   "source": [
    "#pipeline_filt_br.fit_transform(X_train, y_train).shape"
   ]
  },
  {
   "cell_type": "code",
   "execution_count": 51,
   "id": "08d9639a-25b9-48e5-b3f6-1fd2df14b92c",
   "metadata": {},
   "outputs": [
    {
     "name": "stdout",
     "output_type": "stream",
     "text": [
      "Cross-validated R2: 0.559 +/- 0.052\n"
     ]
    }
   ],
   "source": [
    "print('Cross-validated R2: %0.3f +/- %0.3f' % (scores_filt_br.mean(), scores_filt_br.std()))"
   ]
  },
  {
   "cell_type": "markdown",
   "id": "f5656a1d-1f6e-4ba0-8cb4-eb6e8d92d656",
   "metadata": {},
   "source": [
    "#### some experiments"
   ]
  },
  {
   "cell_type": "code",
   "execution_count": 52,
   "id": "1fb2012c-becd-405e-80c5-ec3c12451a02",
   "metadata": {},
   "outputs": [],
   "source": [
    "pipeline_filt_br_tr = TransformedTargetRegressor(Pipeline([\n",
    "    ('encoder', ce.LeaveOneOutEncoder()),\n",
    "    ('filter_var', VarianceThreshold(.99 * (1 - .99))),\n",
    "    ('correlated_remover', CorrSelector(.99)),\n",
    "    ('from_model', SelectFromModel(BayesianRidge())),\n",
    "    ('regressor', BayesianRidge()),\n",
    "]), transformer=RobustScaler())"
   ]
  },
  {
   "cell_type": "code",
   "execution_count": 53,
   "id": "dd020350-98b5-451b-94ae-5a333bc21523",
   "metadata": {},
   "outputs": [],
   "source": [
    "scores_filt_br_tr = cross_val_score(\n",
    "    pipeline_filt_br_tr, X_train, y_train, \n",
    "    cv=k_fold, scoring='r2'\n",
    ")"
   ]
  },
  {
   "cell_type": "code",
   "execution_count": 54,
   "id": "70d0f951-3125-4bad-989a-2d6d86223948",
   "metadata": {},
   "outputs": [
    {
     "name": "stdout",
     "output_type": "stream",
     "text": [
      "Cross-validated R2: 0.555 +/- 0.055\n"
     ]
    }
   ],
   "source": [
    "print('Cross-validated R2: %0.3f +/- %0.3f' % (scores_filt_br_tr.mean(), scores_filt_br_tr.std()))"
   ]
  },
  {
   "cell_type": "code",
   "execution_count": 55,
   "id": "b046c7d7-17fe-4b0c-b128-d228f16dac5d",
   "metadata": {},
   "outputs": [
    {
     "data": {
      "text/plain": [
       "(0.5828964434380449, 0.6287586691170041)"
      ]
     },
     "execution_count": 55,
     "metadata": {},
     "output_type": "execute_result"
    }
   ],
   "source": [
    "pipeline_filt_br_tr.fit(X_train, y_train); \n",
    "pipeline_filt_br_tr.score(X_train, y_train), pipeline_filt_br_tr.score(X_test, y_test)"
   ]
  },
  {
   "cell_type": "code",
   "execution_count": 56,
   "id": "e58c186b-88aa-461c-b8ec-ab8e32234359",
   "metadata": {},
   "outputs": [],
   "source": [
    "pipeline_filt_br_rf = Pipeline([\n",
    "    ('encoder', ce.LeaveOneOutEncoder()),\n",
    "    ('filter_var', VarianceThreshold(.99 * (1 - .99))),\n",
    "    ('correlated_remover', CorrSelector(.99)),\n",
    "    ('from_model', SelectFromModel(RandomForestRegressor(n_estimators=100, max_depth=10, random_state=42))),\n",
    "    ('regressor', BayesianRidge()),\n",
    "])"
   ]
  },
  {
   "cell_type": "code",
   "execution_count": 57,
   "id": "9e50845a-7fcc-4428-90fe-cc345d434e6a",
   "metadata": {},
   "outputs": [
    {
     "data": {
      "text/plain": [
       "(0.5711580633946728, 0.6368829225938665)"
      ]
     },
     "execution_count": 57,
     "metadata": {},
     "output_type": "execute_result"
    }
   ],
   "source": [
    "pipeline_filt_br_rf.fit(X_train, y_train); \n",
    "pipeline_filt_br_rf.score(X_train, y_train), pipeline_filt_br_rf.score(X_test, y_test)"
   ]
  },
  {
   "cell_type": "code",
   "execution_count": 58,
   "id": "14521dd1-f2fc-4f76-80b3-e6c50b5b2e57",
   "metadata": {},
   "outputs": [
    {
     "name": "stderr",
     "output_type": "stream",
     "text": [
      "c:\\users\\akagi\\documents\\otus\\1-automl\\env\\lib\\site-packages\\category_encoders\\utils.py:21: FutureWarning: is_categorical is deprecated and will be removed in a future version.  Use is_categorical_dtype instead\n",
      "  elif pd.api.types.is_categorical(cols):\n",
      "c:\\users\\akagi\\documents\\otus\\1-automl\\env\\lib\\site-packages\\category_encoders\\utils.py:21: FutureWarning: is_categorical is deprecated and will be removed in a future version.  Use is_categorical_dtype instead\n",
      "  elif pd.api.types.is_categorical(cols):\n",
      "c:\\users\\akagi\\documents\\otus\\1-automl\\env\\lib\\site-packages\\category_encoders\\utils.py:21: FutureWarning: is_categorical is deprecated and will be removed in a future version.  Use is_categorical_dtype instead\n",
      "  elif pd.api.types.is_categorical(cols):\n",
      "c:\\users\\akagi\\documents\\otus\\1-automl\\env\\lib\\site-packages\\category_encoders\\utils.py:21: FutureWarning: is_categorical is deprecated and will be removed in a future version.  Use is_categorical_dtype instead\n",
      "  elif pd.api.types.is_categorical(cols):\n",
      "c:\\users\\akagi\\documents\\otus\\1-automl\\env\\lib\\site-packages\\category_encoders\\utils.py:21: FutureWarning: is_categorical is deprecated and will be removed in a future version.  Use is_categorical_dtype instead\n",
      "  elif pd.api.types.is_categorical(cols):\n"
     ]
    }
   ],
   "source": [
    "scores_filt_br_rf = cross_val_score(\n",
    "    pipeline_filt_br_rf, X_train, y_train, \n",
    "    cv=k_fold, scoring='r2'\n",
    ")"
   ]
  },
  {
   "cell_type": "code",
   "execution_count": 59,
   "id": "1a08f3f6-41e5-4044-876e-48d8a3d5bd4a",
   "metadata": {},
   "outputs": [
    {
     "name": "stdout",
     "output_type": "stream",
     "text": [
      "Cross-validated R2: 0.464 +/- 0.234\n"
     ]
    }
   ],
   "source": [
    "print('Cross-validated R2: %0.3f +/- %0.3f' % (scores_filt_br_rf.mean(), scores_filt_br_rf.std()))"
   ]
  },
  {
   "cell_type": "code",
   "execution_count": 60,
   "id": "c8e6f86e-0d9d-40e7-ab6a-f6cbe0e56b4b",
   "metadata": {},
   "outputs": [],
   "source": [
    "pipeline_filt_rf = Pipeline([\n",
    "    ('encoder', ce.LeaveOneOutEncoder()),\n",
    "    ('filter_var', VarianceThreshold(.99 * (1 - .99))),\n",
    "    ('correlated_remover', CorrSelector(.99)),\n",
    "    ('from_model', SelectFromModel(RandomForestRegressor(n_estimators=200, max_depth=15, random_state=42))),\n",
    "    ('regressor', RandomForestRegressor(n_estimators=200, max_depth=15, random_state=42)),\n",
    "])"
   ]
  },
  {
   "cell_type": "code",
   "execution_count": 61,
   "id": "521be94a-ad17-4fd5-bd09-f2d242d4d990",
   "metadata": {},
   "outputs": [
    {
     "name": "stderr",
     "output_type": "stream",
     "text": [
      "c:\\users\\akagi\\documents\\otus\\1-automl\\env\\lib\\site-packages\\category_encoders\\utils.py:21: FutureWarning: is_categorical is deprecated and will be removed in a future version.  Use is_categorical_dtype instead\n",
      "  elif pd.api.types.is_categorical(cols):\n",
      "c:\\users\\akagi\\documents\\otus\\1-automl\\env\\lib\\site-packages\\category_encoders\\utils.py:21: FutureWarning: is_categorical is deprecated and will be removed in a future version.  Use is_categorical_dtype instead\n",
      "  elif pd.api.types.is_categorical(cols):\n",
      "c:\\users\\akagi\\documents\\otus\\1-automl\\env\\lib\\site-packages\\category_encoders\\utils.py:21: FutureWarning: is_categorical is deprecated and will be removed in a future version.  Use is_categorical_dtype instead\n",
      "  elif pd.api.types.is_categorical(cols):\n",
      "c:\\users\\akagi\\documents\\otus\\1-automl\\env\\lib\\site-packages\\category_encoders\\utils.py:21: FutureWarning: is_categorical is deprecated and will be removed in a future version.  Use is_categorical_dtype instead\n",
      "  elif pd.api.types.is_categorical(cols):\n",
      "c:\\users\\akagi\\documents\\otus\\1-automl\\env\\lib\\site-packages\\category_encoders\\utils.py:21: FutureWarning: is_categorical is deprecated and will be removed in a future version.  Use is_categorical_dtype instead\n",
      "  elif pd.api.types.is_categorical(cols):\n"
     ]
    }
   ],
   "source": [
    "scores_filt_rf = cross_val_score(\n",
    "    pipeline_filt_br_rf, X_train, y_train, \n",
    "    cv=k_fold, scoring='r2'\n",
    ")"
   ]
  },
  {
   "cell_type": "code",
   "execution_count": 62,
   "id": "f5977201-b576-4a26-9033-898a5d7ae55f",
   "metadata": {},
   "outputs": [
    {
     "name": "stdout",
     "output_type": "stream",
     "text": [
      "Cross-validated R2: 0.464 +/- 0.234\n"
     ]
    }
   ],
   "source": [
    "print('Cross-validated R2: %0.3f +/- %0.3f' % (scores_filt_rf.mean(), scores_filt_rf.std()))"
   ]
  },
  {
   "cell_type": "code",
   "execution_count": 63,
   "id": "4df8db80-3df4-447f-a9ee-4b3d0ddcbca6",
   "metadata": {},
   "outputs": [
    {
     "data": {
      "text/plain": [
       "(0.3055739169618731, 0.37066606506719424)"
      ]
     },
     "execution_count": 63,
     "metadata": {},
     "output_type": "execute_result"
    }
   ],
   "source": [
    "pipeline_filt_rf.fit(X_train, y_train); \n",
    "pipeline_filt_rf.score(X_train, y_train), pipeline_filt_rf.score(X_test, y_test)"
   ]
  },
  {
   "cell_type": "markdown",
   "id": "beaa0b9a-fd1e-454e-8fe1-20f617e1d267",
   "metadata": {},
   "source": [
    "Фильтрация признаков повышает работоспособность случайного леса, но для получения лучших результатов требуется более тщательный подбор гиперпараметров."
   ]
  },
  {
   "cell_type": "markdown",
   "id": "76e26699-9fef-4d6d-919f-faa65cb9475b",
   "metadata": {},
   "source": [
    "# Фильтрации с FT"
   ]
  },
  {
   "cell_type": "code",
   "execution_count": 64,
   "id": "155599c0-57f3-4b9f-be9c-d03715960104",
   "metadata": {},
   "outputs": [],
   "source": [
    "pipeline_ft_br_filt = Pipeline([\n",
    "    ('ft', DFSTransformer(target_entity='cars_info', trans_primitives = [MultiplyBoolean()],\n",
    "              max_depth=1, max_features=1000)),\n",
    "    ('encoder', ce.LeaveOneOutEncoder()),\n",
    "    ('imputer', SimpleImputer(strategy='most_frequent')),\n",
    "    ('filter_var', VarianceThreshold(.99 * (1 - .99))),\n",
    "    ('correlated_remover', CorrSelector(.99)),\n",
    "    ('from_model', SelectFromModel(BayesianRidge())),\n",
    "    ('regressor', BayesianRidge()),\n",
    "])"
   ]
  },
  {
   "cell_type": "code",
   "execution_count": 65,
   "id": "2c63457b-132b-4cc7-8faa-380ec53f11c4",
   "metadata": {},
   "outputs": [
    {
     "name": "stderr",
     "output_type": "stream",
     "text": [
      "c:\\users\\akagi\\documents\\otus\\1-automl\\env\\lib\\site-packages\\pandas\\core\\frame.py:4481: PerformanceWarning: DataFrame is highly fragmented.  This is usually the result of calling `frame.insert` many times, which has poor performance.  Consider using pd.concat instead.  To get a de-fragmented frame, use `newframe = frame.copy()`\n",
      "  data[k] = com.apply_if_callable(v, data)\n"
     ]
    },
    {
     "data": {
      "text/plain": [
       "Pipeline(steps=[('ft',\n",
       "                 <featuretools_sklearn_transformer.transformer.DFSTransformer object at 0x000002DE24CD80A0>),\n",
       "                ('encoder',\n",
       "                 LeaveOneOutEncoder(cols=['X0', 'X1', 'X2', 'X3', 'X4', 'X5',\n",
       "                                          'X6', 'X8'])),\n",
       "                ('imputer', SimpleImputer(strategy='most_frequent')),\n",
       "                ('filter_var',\n",
       "                 VarianceThreshold(threshold=0.00990000000000001)),\n",
       "                ('correlated_remover',\n",
       "                 <__main__.CorrSelector object at 0x000002DE24CD8D30>),\n",
       "                ('from_model', SelectFromModel(estimator=BayesianRidge())),\n",
       "                ('regressor', BayesianRidge())])"
      ]
     },
     "execution_count": 65,
     "metadata": {},
     "output_type": "execute_result"
    }
   ],
   "source": [
    "pipeline_ft_br_filt.fit(es_tr, y_train_id)"
   ]
  },
  {
   "cell_type": "code",
   "execution_count": 66,
   "id": "f519a7a5-15c7-4069-8157-972149ce7c58",
   "metadata": {},
   "outputs": [
    {
     "name": "stderr",
     "output_type": "stream",
     "text": [
      "c:\\users\\akagi\\documents\\otus\\1-automl\\env\\lib\\site-packages\\pandas\\core\\frame.py:4481: PerformanceWarning: DataFrame is highly fragmented.  This is usually the result of calling `frame.insert` many times, which has poor performance.  Consider using pd.concat instead.  To get a de-fragmented frame, use `newframe = frame.copy()`\n",
      "  data[k] = com.apply_if_callable(v, data)\n"
     ]
    },
    {
     "data": {
      "text/plain": [
       "0.5651308443774441"
      ]
     },
     "execution_count": 66,
     "metadata": {},
     "output_type": "execute_result"
    }
   ],
   "source": [
    "pipeline_ft_br_filt.score(es_tr, y_train_id)"
   ]
  },
  {
   "cell_type": "code",
   "execution_count": 67,
   "id": "98c63ea3-0b9a-4129-8e9a-a38aac288bbd",
   "metadata": {},
   "outputs": [
    {
     "name": "stderr",
     "output_type": "stream",
     "text": [
      "c:\\users\\akagi\\documents\\otus\\1-automl\\env\\lib\\site-packages\\pandas\\core\\frame.py:4481: PerformanceWarning: DataFrame is highly fragmented.  This is usually the result of calling `frame.insert` many times, which has poor performance.  Consider using pd.concat instead.  To get a de-fragmented frame, use `newframe = frame.copy()`\n",
      "  data[k] = com.apply_if_callable(v, data)\n"
     ]
    },
    {
     "data": {
      "text/plain": [
       "0.6205721933851998"
      ]
     },
     "execution_count": 67,
     "metadata": {},
     "output_type": "execute_result"
    }
   ],
   "source": [
    "pipeline_ft_br_filt.score(es_test, y_test_id)"
   ]
  },
  {
   "cell_type": "markdown",
   "id": "ef21377c-800d-4bc0-be89-1d2fe736f3a3",
   "metadata": {},
   "source": [
    "Ожидаемо, с FeatureTools были получены худшие результаты, нежели без него, т.к. признаки в модели довольно простые (категориальные или логические) + есть признаки, вариативность значений которых невысока."
   ]
  },
  {
   "cell_type": "markdown",
   "id": "48f1afae-ae5b-4f6c-b057-7115a813b1aa",
   "metadata": {},
   "source": [
    "# +PCA"
   ]
  },
  {
   "cell_type": "code",
   "execution_count": 68,
   "id": "731243ee-9980-446b-b73c-e86e3ebb6526",
   "metadata": {},
   "outputs": [],
   "source": [
    "pipeline_filt_pca_br = Pipeline([\n",
    "    ('encoder', ce.LeaveOneOutEncoder()),\n",
    "    ('filter_var', VarianceThreshold(.99 * (1 - .99))),\n",
    "    ('correlated_remover', CorrSelector(.99)),\n",
    "    ('from_model', SelectFromModel(BayesianRidge())),\n",
    "    ('pca', PCA(n_components=30, random_state=42)),\n",
    "    ('regressor', BayesianRidge()),\n",
    "])"
   ]
  },
  {
   "cell_type": "code",
   "execution_count": 69,
   "id": "a7b2a66b-d69a-4819-8905-976aa847b642",
   "metadata": {},
   "outputs": [
    {
     "data": {
      "text/plain": [
       "Pipeline(steps=[('encoder', LeaveOneOutEncoder()),\n",
       "                ('filter_var',\n",
       "                 VarianceThreshold(threshold=0.00990000000000001)),\n",
       "                ('correlated_remover',\n",
       "                 <__main__.CorrSelector object at 0x000002DE1D0A2EE0>),\n",
       "                ('from_model', SelectFromModel(estimator=BayesianRidge())),\n",
       "                ('pca', PCA(n_components=30, random_state=42)),\n",
       "                ('regressor', BayesianRidge())])"
      ]
     },
     "execution_count": 69,
     "metadata": {},
     "output_type": "execute_result"
    }
   ],
   "source": [
    "pipeline_filt_pca_br"
   ]
  },
  {
   "cell_type": "code",
   "execution_count": 70,
   "id": "6ca424aa-7a41-4fef-8e62-d9f49f1c66ba",
   "metadata": {},
   "outputs": [],
   "source": [
    "scores_filt_pca_br = cross_val_score(\n",
    "    pipeline_filt_pca_br, X_train, y_train, \n",
    "    cv=k_fold, scoring='r2'\n",
    ")"
   ]
  },
  {
   "cell_type": "code",
   "execution_count": 71,
   "id": "e37c0988-cfcd-45a8-bdc4-6fc424ef315b",
   "metadata": {},
   "outputs": [
    {
     "name": "stdout",
     "output_type": "stream",
     "text": [
      "Cross-validated R2: 0.558 +/- 0.053\n"
     ]
    }
   ],
   "source": [
    "print('Cross-validated R2: %0.3f +/- %0.3f' % (scores_filt_pca_br.mean(), scores_filt_pca_br.std()))"
   ]
  },
  {
   "cell_type": "code",
   "execution_count": 72,
   "id": "4baa7822-bfd0-48d8-ada5-c20b572a4257",
   "metadata": {},
   "outputs": [
    {
     "data": {
      "text/plain": [
       "(0.5793840806718265, 0.6346615494982035)"
      ]
     },
     "execution_count": 72,
     "metadata": {},
     "output_type": "execute_result"
    }
   ],
   "source": [
    "pipeline_filt_pca_br.fit(X_train, y_train); \n",
    "pipeline_filt_pca_br.score(X_train, y_train), pipeline_filt_pca_br.score(X_test, y_test)"
   ]
  },
  {
   "cell_type": "markdown",
   "id": "af4211d3-871b-49c1-ac56-10227031ed11",
   "metadata": {},
   "source": [
    "# H2O AutoML"
   ]
  },
  {
   "cell_type": "code",
   "execution_count": 73,
   "id": "0a4418e9-678c-4541-9db4-d5e302f87674",
   "metadata": {},
   "outputs": [
    {
     "name": "stdout",
     "output_type": "stream",
     "text": [
      "Checking whether there is an H2O instance running at http://localhost:54321 ..... not found.\n",
      "Attempting to start a local H2O server...\n",
      "; Java HotSpot(TM) 64-Bit Server VM (build 25.241-b07, mixed mode)\n",
      "  Starting server from C:\\Users\\akagi\\Documents\\otus\\1-automl\\env\\Lib\\site-packages\\h2o\\backend\\bin\\h2o.jar\n",
      "  Ice root: C:\\Users\\akagi\\AppData\\Local\\Temp\\tmple0zw4mi\n",
      "  JVM stdout: C:\\Users\\akagi\\AppData\\Local\\Temp\\tmple0zw4mi\\h2o_akagi_started_from_python.out\n",
      "  JVM stderr: C:\\Users\\akagi\\AppData\\Local\\Temp\\tmple0zw4mi\\h2o_akagi_started_from_python.err\n",
      "  Server is running at http://127.0.0.1:54321\n",
      "Connecting to H2O server at http://127.0.0.1:54321 ... successful.\n"
     ]
    },
    {
     "data": {
      "text/html": [
       "<div style=\"overflow:auto\"><table style=\"width:50%\"><tr><td>H2O_cluster_uptime:</td>\n",
       "<td>02 secs</td></tr>\n",
       "<tr><td>H2O_cluster_timezone:</td>\n",
       "<td>Europe/Moscow</td></tr>\n",
       "<tr><td>H2O_data_parsing_timezone:</td>\n",
       "<td>UTC</td></tr>\n",
       "<tr><td>H2O_cluster_version:</td>\n",
       "<td>3.32.1.4</td></tr>\n",
       "<tr><td>H2O_cluster_version_age:</td>\n",
       "<td>7 days and 21 minutes </td></tr>\n",
       "<tr><td>H2O_cluster_name:</td>\n",
       "<td>H2O_from_python_akagi_pmgn00</td></tr>\n",
       "<tr><td>H2O_cluster_total_nodes:</td>\n",
       "<td>1</td></tr>\n",
       "<tr><td>H2O_cluster_free_memory:</td>\n",
       "<td>3.539 Gb</td></tr>\n",
       "<tr><td>H2O_cluster_total_cores:</td>\n",
       "<td>12</td></tr>\n",
       "<tr><td>H2O_cluster_allowed_cores:</td>\n",
       "<td>12</td></tr>\n",
       "<tr><td>H2O_cluster_status:</td>\n",
       "<td>accepting new members, healthy</td></tr>\n",
       "<tr><td>H2O_connection_url:</td>\n",
       "<td>http://127.0.0.1:54321</td></tr>\n",
       "<tr><td>H2O_connection_proxy:</td>\n",
       "<td>{\"http\": null, \"https\": null}</td></tr>\n",
       "<tr><td>H2O_internal_security:</td>\n",
       "<td>False</td></tr>\n",
       "<tr><td>H2O_API_Extensions:</td>\n",
       "<td>Amazon S3, Algos, AutoML, Core V3, TargetEncoder, Core V4</td></tr>\n",
       "<tr><td>Python_version:</td>\n",
       "<td>3.9.6 final</td></tr></table></div>"
      ],
      "text/plain": [
       "--------------------------  ---------------------------------------------------------\n",
       "H2O_cluster_uptime:         02 secs\n",
       "H2O_cluster_timezone:       Europe/Moscow\n",
       "H2O_data_parsing_timezone:  UTC\n",
       "H2O_cluster_version:        3.32.1.4\n",
       "H2O_cluster_version_age:    7 days and 21 minutes\n",
       "H2O_cluster_name:           H2O_from_python_akagi_pmgn00\n",
       "H2O_cluster_total_nodes:    1\n",
       "H2O_cluster_free_memory:    3.539 Gb\n",
       "H2O_cluster_total_cores:    12\n",
       "H2O_cluster_allowed_cores:  12\n",
       "H2O_cluster_status:         accepting new members, healthy\n",
       "H2O_connection_url:         http://127.0.0.1:54321\n",
       "H2O_connection_proxy:       {\"http\": null, \"https\": null}\n",
       "H2O_internal_security:      False\n",
       "H2O_API_Extensions:         Amazon S3, Algos, AutoML, Core V3, TargetEncoder, Core V4\n",
       "Python_version:             3.9.6 final\n",
       "--------------------------  ---------------------------------------------------------"
      ]
     },
     "metadata": {},
     "output_type": "display_data"
    }
   ],
   "source": [
    "import h2o\n",
    "\n",
    "from h2o.sklearn import H2OAutoMLRegressor\n",
    "h2o.init()"
   ]
  },
  {
   "cell_type": "code",
   "execution_count": 74,
   "id": "50a70241-9d10-41ba-83c7-1a70564f1cb7",
   "metadata": {},
   "outputs": [],
   "source": [
    "X_train, X_test, y_train, y_test = train_test_split(noid_X_train, noid_y_train.values, test_size=0.05, random_state=42)\n",
    "\n",
    "pipeline_h2o = Pipeline([\n",
    "    ('encoder', ce.LeaveOneOutEncoder()),\n",
    "    ('filter_var', VarianceThreshold(.99 * (1 - .99))),\n",
    "    ('correlated_remover', CorrSelector(.99)),\n",
    "    #('featselect', SelectKBest(f_regression, k=10)),\n",
    "    ('from_model', SelectFromModel(BayesianRidge())),\n",
    "    ('classifier', H2OAutoMLRegressor(max_models=20, seed=42)),\n",
    "    #\n",
    "    #('regressor', BayesianRidge()),\n",
    "])"
   ]
  },
  {
   "cell_type": "code",
   "execution_count": 75,
   "id": "4484c546-e759-443d-9d81-bb0d65ce3fc9",
   "metadata": {},
   "outputs": [
    {
     "name": "stdout",
     "output_type": "stream",
     "text": [
      "Parse progress: |█████████████████████████████████████████████████████████| 100%\n",
      "Parse progress: |█████████████████████████████████████████████████████████| 100%\n",
      "AutoML progress: |\n",
      "14:59:46.359: AutoML: XGBoost is not available; skipping it.\n",
      "\n",
      "████████████████████████████████████████████████████████| 100%\n",
      "Parse progress: |█████████████████████████████████████████████████████████| 100%\n",
      "Parse progress: |█████████████████████████████████████████████████████████| 100%\n",
      "Parse progress: |█████████████████████████████████████████████████████████| 100%\n",
      "stackedensemble prediction progress: |████████████████████████████████████| 100%\n",
      "Parse progress: |█████████████████████████████████████████████████████████| 100%\n",
      "Parse progress: |█████████████████████████████████████████████████████████| 100%\n",
      "Parse progress: |█████████████████████████████████████████████████████████| 100%\n",
      "stackedensemble prediction progress: |████████████████████████████████████| 100%\n"
     ]
    },
    {
     "data": {
      "text/plain": [
       "(0.4209055405500386, 0.4351456200627791)"
      ]
     },
     "execution_count": 75,
     "metadata": {},
     "output_type": "execute_result"
    }
   ],
   "source": [
    "pipeline_h2o.fit(X_train, y_train)\n",
    "pipeline_h2o.score(X_train, y_train), pipeline_h2o.score(X_test, y_test)"
   ]
  },
  {
   "cell_type": "code",
   "execution_count": 91,
   "id": "5f8d1dbd-7bb9-46ca-96ab-258f0a28173f",
   "metadata": {},
   "outputs": [],
   "source": [
    "X_test_id.insert(0, 'y', y_test_id)"
   ]
  },
  {
   "cell_type": "code",
   "execution_count": 85,
   "id": "7c111138-384f-4424-b3a1-9fc54ac4a398",
   "metadata": {},
   "outputs": [
    {
     "name": "stdout",
     "output_type": "stream",
     "text": [
      "Parse progress: |█████████████████████████████████████████████████████████| 100%\n",
      "AutoML progress: |\n",
      "15:09:17.795: AutoML: XGBoost is not available; skipping it.\n",
      "\n",
      "████████████████████████████████████████████████████████| 100%\n"
     ]
    },
    {
     "data": {
      "text/html": [
       "<table>\n",
       "<thead>\n",
       "<tr><th>model_id                                           </th><th style=\"text-align: right;\">  mean_residual_deviance</th><th style=\"text-align: right;\">   rmse</th><th style=\"text-align: right;\">    mse</th><th style=\"text-align: right;\">    mae</th><th style=\"text-align: right;\">    rmsle</th></tr>\n",
       "</thead>\n",
       "<tbody>\n",
       "<tr><td>StackedEnsemble_BestOfFamily_AutoML_20210715_150917</td><td style=\"text-align: right;\">                 70.9013</td><td style=\"text-align: right;\">8.42029</td><td style=\"text-align: right;\">70.9013</td><td style=\"text-align: right;\">5.32755</td><td style=\"text-align: right;\">0.0742499</td></tr>\n",
       "<tr><td>GBM_grid__1_AutoML_20210715_150917_model_1         </td><td style=\"text-align: right;\">                 70.969 </td><td style=\"text-align: right;\">8.42431</td><td style=\"text-align: right;\">70.969 </td><td style=\"text-align: right;\">5.32703</td><td style=\"text-align: right;\">0.074297 </td></tr>\n",
       "<tr><td>StackedEnsemble_AllModels_AutoML_20210715_150917   </td><td style=\"text-align: right;\">                 70.9862</td><td style=\"text-align: right;\">8.42533</td><td style=\"text-align: right;\">70.9862</td><td style=\"text-align: right;\">5.32919</td><td style=\"text-align: right;\">0.0742899</td></tr>\n",
       "<tr><td>GBM_grid__1_AutoML_20210715_150917_model_5         </td><td style=\"text-align: right;\">                 71.3896</td><td style=\"text-align: right;\">8.44924</td><td style=\"text-align: right;\">71.3896</td><td style=\"text-align: right;\">5.35183</td><td style=\"text-align: right;\">0.074535 </td></tr>\n",
       "<tr><td>GBM_grid__1_AutoML_20210715_150917_model_3         </td><td style=\"text-align: right;\">                 71.8781</td><td style=\"text-align: right;\">8.47809</td><td style=\"text-align: right;\">71.8781</td><td style=\"text-align: right;\">5.36736</td><td style=\"text-align: right;\">0.0749085</td></tr>\n",
       "<tr><td>GBM_5_AutoML_20210715_150917                       </td><td style=\"text-align: right;\">                 73.3889</td><td style=\"text-align: right;\">8.56673</td><td style=\"text-align: right;\">73.3889</td><td style=\"text-align: right;\">5.48338</td><td style=\"text-align: right;\">0.0759259</td></tr>\n",
       "<tr><td>GLM_1_AutoML_20210715_150917                       </td><td style=\"text-align: right;\">                 73.891 </td><td style=\"text-align: right;\">8.59599</td><td style=\"text-align: right;\">73.891 </td><td style=\"text-align: right;\">5.5003 </td><td style=\"text-align: right;\">0.0762344</td></tr>\n",
       "<tr><td>GBM_2_AutoML_20210715_150917                       </td><td style=\"text-align: right;\">                 75.6951</td><td style=\"text-align: right;\">8.7003 </td><td style=\"text-align: right;\">75.6951</td><td style=\"text-align: right;\">5.57534</td><td style=\"text-align: right;\">0.0772483</td></tr>\n",
       "<tr><td>GBM_grid__1_AutoML_20210715_150917_model_4         </td><td style=\"text-align: right;\">                 75.8133</td><td style=\"text-align: right;\">8.70708</td><td style=\"text-align: right;\">75.8133</td><td style=\"text-align: right;\">5.59794</td><td style=\"text-align: right;\">0.0774003</td></tr>\n",
       "<tr><td>DeepLearning_1_AutoML_20210715_150917              </td><td style=\"text-align: right;\">                 76.4392</td><td style=\"text-align: right;\">8.74295</td><td style=\"text-align: right;\">76.4392</td><td style=\"text-align: right;\">5.59848</td><td style=\"text-align: right;\">0.0778525</td></tr>\n",
       "<tr><td>GBM_3_AutoML_20210715_150917                       </td><td style=\"text-align: right;\">                 76.711 </td><td style=\"text-align: right;\">8.75848</td><td style=\"text-align: right;\">76.711 </td><td style=\"text-align: right;\">5.60232</td><td style=\"text-align: right;\">0.0778804</td></tr>\n",
       "<tr><td>GBM_1_AutoML_20210715_150917                       </td><td style=\"text-align: right;\">                 76.7337</td><td style=\"text-align: right;\">8.75978</td><td style=\"text-align: right;\">76.7337</td><td style=\"text-align: right;\">5.53931</td><td style=\"text-align: right;\">0.0776827</td></tr>\n",
       "<tr><td>GBM_grid__1_AutoML_20210715_150917_model_6         </td><td style=\"text-align: right;\">                 77.2649</td><td style=\"text-align: right;\">8.79005</td><td style=\"text-align: right;\">77.2649</td><td style=\"text-align: right;\">5.58341</td><td style=\"text-align: right;\">0.0780287</td></tr>\n",
       "<tr><td>DRF_1_AutoML_20210715_150917                       </td><td style=\"text-align: right;\">                 77.738 </td><td style=\"text-align: right;\">8.81691</td><td style=\"text-align: right;\">77.738 </td><td style=\"text-align: right;\">5.53424</td><td style=\"text-align: right;\">0.0782844</td></tr>\n",
       "<tr><td>GBM_4_AutoML_20210715_150917                       </td><td style=\"text-align: right;\">                 78.9485</td><td style=\"text-align: right;\">8.8853 </td><td style=\"text-align: right;\">78.9485</td><td style=\"text-align: right;\">5.70861</td><td style=\"text-align: right;\">0.0791047</td></tr>\n",
       "<tr><td>DeepLearning_grid__2_AutoML_20210715_150917_model_1</td><td style=\"text-align: right;\">                 80.4746</td><td style=\"text-align: right;\">8.97076</td><td style=\"text-align: right;\">80.4746</td><td style=\"text-align: right;\">5.85269</td><td style=\"text-align: right;\">0.0803277</td></tr>\n",
       "<tr><td>XRT_1_AutoML_20210715_150917                       </td><td style=\"text-align: right;\">                 80.7539</td><td style=\"text-align: right;\">8.98632</td><td style=\"text-align: right;\">80.7539</td><td style=\"text-align: right;\">6.47181</td><td style=\"text-align: right;\">0.081055 </td></tr>\n",
       "<tr><td>DeepLearning_grid__1_AutoML_20210715_150917_model_1</td><td style=\"text-align: right;\">                 83.18  </td><td style=\"text-align: right;\">9.12031</td><td style=\"text-align: right;\">83.18  </td><td style=\"text-align: right;\">6.17092</td><td style=\"text-align: right;\">0.0819997</td></tr>\n",
       "<tr><td>GBM_grid__1_AutoML_20210715_150917_model_2         </td><td style=\"text-align: right;\">                 83.3727</td><td style=\"text-align: right;\">9.13087</td><td style=\"text-align: right;\">83.3727</td><td style=\"text-align: right;\">5.80602</td><td style=\"text-align: right;\">0.0812829</td></tr>\n",
       "<tr><td>DeepLearning_grid__3_AutoML_20210715_150917_model_1</td><td style=\"text-align: right;\">                 83.4002</td><td style=\"text-align: right;\">9.13237</td><td style=\"text-align: right;\">83.4002</td><td style=\"text-align: right;\">6.05981</td><td style=\"text-align: right;\">0.0830665</td></tr>\n",
       "<tr><td>DeepLearning_grid__1_AutoML_20210715_150917_model_2</td><td style=\"text-align: right;\">                 90.3332</td><td style=\"text-align: right;\">9.50438</td><td style=\"text-align: right;\">90.3332</td><td style=\"text-align: right;\">6.14907</td><td style=\"text-align: right;\">0.0868701</td></tr>\n",
       "<tr><td>DeepLearning_grid__2_AutoML_20210715_150917_model_2</td><td style=\"text-align: right;\">                 95.191 </td><td style=\"text-align: right;\">9.75659</td><td style=\"text-align: right;\">95.191 </td><td style=\"text-align: right;\">6.40268</td><td style=\"text-align: right;\">0.0888637</td></tr>\n",
       "</tbody>\n",
       "</table>"
      ]
     },
     "metadata": {},
     "output_type": "display_data"
    },
    {
     "data": {
      "text/plain": []
     },
     "execution_count": 85,
     "metadata": {},
     "output_type": "execute_result"
    }
   ],
   "source": [
    "from h2o.automl import H2OAutoML\n",
    "\n",
    "\n",
    "X_train_id.insert(0, 'y', y_train_id)\n",
    "X_test_id.insert(0, 'y', y_test_id)\n",
    "train = h2o.H2OFrame(X_train_id)\n",
    "\n",
    "x = [c for c in train_data.columns if c not in ('y', 'ID')]\n",
    "y = 'y'\n",
    "\n",
    "aml = H2OAutoML(max_models=20, seed=1)\n",
    "aml.train(x=x, y=y, training_frame=train)\n",
    "lb = aml.leaderboard\n",
    "lb.head(rows=lb.nrows)"
   ]
  },
  {
   "cell_type": "code",
   "execution_count": 86,
   "id": "f67d3753-adc5-481c-b68a-63996361af1d",
   "metadata": {},
   "outputs": [
    {
     "name": "stdout",
     "output_type": "stream",
     "text": [
      "stackedensemble prediction progress: |████████████████████████████████████| 100%\n"
     ]
    }
   ],
   "source": [
    "preds = aml.leader.predict(train)"
   ]
  },
  {
   "cell_type": "code",
   "execution_count": 88,
   "id": "315dd33a-415a-4215-a78e-8c47baca2606",
   "metadata": {},
   "outputs": [
    {
     "data": {
      "text/plain": [
       "0.6133097172452362"
      ]
     },
     "execution_count": 88,
     "metadata": {},
     "output_type": "execute_result"
    }
   ],
   "source": [
    "r2_score(X_train_id['y'].values, preds.as_data_frame())"
   ]
  },
  {
   "cell_type": "code",
   "execution_count": 92,
   "id": "cf520a9d-186c-4b04-8ad1-377d5889e0de",
   "metadata": {},
   "outputs": [
    {
     "name": "stdout",
     "output_type": "stream",
     "text": [
      "Parse progress: |█████████████████████████████████████████████████████████| 100%\n",
      "stackedensemble prediction progress: |████████████████████████████████████| 100%\n"
     ]
    },
    {
     "name": "stderr",
     "output_type": "stream",
     "text": [
      "c:\\users\\akagi\\documents\\otus\\1-automl\\env\\lib\\site-packages\\h2o\\job.py:72: UserWarning: Test/Validation dataset column 'X0' has levels not trained on: [\"ac\"]\n",
      "  warnings.warn(w)\n",
      "c:\\users\\akagi\\documents\\otus\\1-automl\\env\\lib\\site-packages\\h2o\\job.py:72: UserWarning: Test/Validation dataset column 'X2' has levels not trained on: [\"j\"]\n",
      "  warnings.warn(w)\n"
     ]
    },
    {
     "data": {
      "text/plain": [
       "0.6411198857753693"
      ]
     },
     "execution_count": 92,
     "metadata": {},
     "output_type": "execute_result"
    }
   ],
   "source": [
    "test = h2o.H2OFrame(X_test_id)\n",
    "preds = aml.leader.predict(test)\n",
    "r2_score(X_test_id['y'].values, preds.as_data_frame())"
   ]
  },
  {
   "cell_type": "code",
   "execution_count": 93,
   "id": "8f314fef-17c9-4a87-accf-e2c726fd3986",
   "metadata": {},
   "outputs": [],
   "source": [
    "X_train, X_test, y_train, y_test = train_test_split(noid_X_train, noid_y_train.values, test_size=0.05, random_state=42)\n",
    "\n",
    "pipeline_h2o = Pipeline([\n",
    "    ('encoder', ce.LeaveOneOutEncoder()),\n",
    "    ('filter_var', VarianceThreshold(.99 * (1 - .99))),\n",
    "    ('correlated_remover', CorrSelector(.99)),\n",
    "    ('featselect', SelectKBest(f_regression, k=10)),\n",
    "    #('from_model', SelectFromModel(BayesianRidge())),\n",
    "    ('classifier', H2OAutoMLRegressor(max_models=20, seed=42)),\n",
    "    #\n",
    "    #('regressor', BayesianRidge()),\n",
    "])"
   ]
  },
  {
   "cell_type": "code",
   "execution_count": 94,
   "id": "a2a466da-43f6-4345-b821-e35f866b14c4",
   "metadata": {},
   "outputs": [
    {
     "name": "stdout",
     "output_type": "stream",
     "text": [
      "Parse progress: |█████████████████████████████████████████████████████████| 100%\n",
      "Parse progress: |█████████████████████████████████████████████████████████| 100%\n",
      "AutoML progress: |\n",
      "15:37:21.238: AutoML: XGBoost is not available; skipping it.\n",
      "\n",
      "████████████████████████████████████████████████████████| 100%\n",
      "Parse progress: |█████████████████████████████████████████████████████████| 100%\n",
      "Parse progress: |█████████████████████████████████████████████████████████| 100%\n",
      "Parse progress: |█████████████████████████████████████████████████████████| 100%\n",
      "stackedensemble prediction progress: |████████████████████████████████████| 100%\n",
      "Parse progress: |█████████████████████████████████████████████████████████| 100%\n",
      "Parse progress: |█████████████████████████████████████████████████████████| 100%\n",
      "Parse progress: |█████████████████████████████████████████████████████████| 100%\n",
      "stackedensemble prediction progress: |████████████████████████████████████| 100%\n"
     ]
    },
    {
     "data": {
      "text/plain": [
       "(0.4608430333479244, 0.5345775870180824)"
      ]
     },
     "execution_count": 94,
     "metadata": {},
     "output_type": "execute_result"
    }
   ],
   "source": [
    "pipeline_h2o.fit(X_train, y_train)\n",
    "pipeline_h2o.score(X_train, y_train), pipeline_h2o.score(X_test, y_test)"
   ]
  },
  {
   "cell_type": "code",
   "execution_count": null,
   "id": "292e045d-ee6f-42c4-9141-5711d644018c",
   "metadata": {},
   "outputs": [],
   "source": []
  }
 ],
 "metadata": {
  "kernelspec": {
   "display_name": "Python 3 (ipykernel)",
   "language": "python",
   "name": "python3"
  },
  "language_info": {
   "codemirror_mode": {
    "name": "ipython",
    "version": 3
   },
   "file_extension": ".py",
   "mimetype": "text/x-python",
   "name": "python",
   "nbconvert_exporter": "python",
   "pygments_lexer": "ipython3",
   "version": "3.9.6"
  }
 },
 "nbformat": 4,
 "nbformat_minor": 5
}
